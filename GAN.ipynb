{
  "nbformat": 4,
  "nbformat_minor": 0,
  "metadata": {
    "colab": {
      "name": "GAN.ipynb",
      "version": "0.3.2",
      "provenance": [],
      "collapsed_sections": [
        "6qgo2nAR_kQf",
        "NEAbymBDCOhT",
        "YUZpo06Z_8o0"
      ]
    },
    "kernelspec": {
      "name": "python3",
      "display_name": "Python 3"
    },
    "accelerator": "GPU"
  },
  "cells": [
    {
      "metadata": {
        "id": "-UyMqbG-lL4M",
        "colab_type": "text"
      },
      "cell_type": "markdown",
      "source": [
        "# Generative Adversarial Network\n",
        "\n",
        "Reference: https://github.com/eriklindernoren/Keras-GAN/"
      ]
    },
    {
      "metadata": {
        "id": "6qgo2nAR_kQf",
        "colab_type": "text"
      },
      "cell_type": "markdown",
      "source": [
        "## Setting"
      ]
    },
    {
      "metadata": {
        "id": "Qa5fJ8mX_oDR",
        "colab_type": "text"
      },
      "cell_type": "markdown",
      "source": [
        "Mount Google Drive"
      ]
    },
    {
      "metadata": {
        "id": "sA88x9MVlkyT",
        "colab_type": "code",
        "outputId": "010e6a4b-66a6-41ac-953a-bf8751795dfc",
        "colab": {
          "base_uri": "https://localhost:8080/",
          "height": 35
        }
      },
      "cell_type": "code",
      "source": [
        "from google.colab import drive\n",
        "\n",
        "mount_folder = '/content/gdrive'\n",
        "drive.mount(mount_folder)"
      ],
      "execution_count": 11,
      "outputs": [
        {
          "output_type": "stream",
          "text": [
            "Drive already mounted at /content/gdrive; to attempt to forcibly remount, call drive.mount(\"/content/gdrive\", force_remount=True).\n"
          ],
          "name": "stdout"
        }
      ]
    },
    {
      "metadata": {
        "id": "Kn57fZiuAs5i",
        "colab_type": "text"
      },
      "cell_type": "markdown",
      "source": [
        "Go into the working directory"
      ]
    },
    {
      "metadata": {
        "id": "DaLsJmzzlovR",
        "colab_type": "code",
        "colab": {}
      },
      "cell_type": "code",
      "source": [
        "import os\n",
        "\n",
        "app_folder = mount_folder + '/My Drive/'\n",
        "os.chdir(app_folder)"
      ],
      "execution_count": 0,
      "outputs": []
    },
    {
      "metadata": {
        "id": "4EiMsntDDLSD",
        "colab_type": "text"
      },
      "cell_type": "markdown",
      "source": [
        "Input"
      ]
    },
    {
      "metadata": {
        "id": "tG_2rBm0DME9",
        "colab_type": "code",
        "colab": {}
      },
      "cell_type": "code",
      "source": [
        "from pathlib import Path\n",
        "\n",
        "def get_banner_folder(prefixe = 'original'):\n",
        "  banner_folder = 'data/'+prefixe+'_steam_banners/'\n",
        "  Path(banner_folder).mkdir(exist_ok=True)  \n",
        "  return banner_folder\n",
        "\n",
        "def get_file_extension():\n",
        "  return '.jpg'\n",
        "  \n",
        "def get_banner_file_name(app_id):\n",
        "  return get_banner_folder() + str(app_id) + get_file_extension()"
      ],
      "execution_count": 0,
      "outputs": []
    },
    {
      "metadata": {
        "id": "MbcQ-HYHDeKP",
        "colab_type": "text"
      },
      "cell_type": "markdown",
      "source": [
        "Banners which are a black background"
      ]
    },
    {
      "metadata": {
        "id": "vIk8YGbbDjQi",
        "colab_type": "code",
        "colab": {}
      },
      "cell_type": "code",
      "source": [
        "def get_skipped_banners():\n",
        "  skipped_app_ids = [396540]\n",
        "  skipped_banners = [get_banner_folder() + str(app_id) + get_file_extension() for app_id in skipped_app_ids]\n",
        "  return skipped_banners"
      ],
      "execution_count": 0,
      "outputs": []
    },
    {
      "metadata": {
        "id": "NEAbymBDCOhT",
        "colab_type": "text"
      },
      "cell_type": "markdown",
      "source": [
        "## Pre-processing"
      ]
    },
    {
      "metadata": {
        "id": "7kABedEdBv-P",
        "colab_type": "text"
      },
      "cell_type": "markdown",
      "source": [
        "Aggregate Steam banners, resized to 11x23 pixels with 3 color channels, into a NumPy structure for faster processing"
      ]
    },
    {
      "metadata": {
        "id": "WgZnY8dida2y",
        "colab_type": "code",
        "colab": {}
      },
      "cell_type": "code",
      "source": [
        "import glob\n",
        "import numpy as np\n",
        "\n",
        "def get_matrix_file_name():\n",
        "  return 'data/banner_matrix.npy'\n",
        "\n",
        "\n",
        "def prepare_data_matrix(img_rows=11, img_cols=23, channels=3):     \n",
        "  all_image_names = glob.glob(get_banner_folder() + '*' + get_file_extension())  \n",
        "  \n",
        "  # There is an issue with duplicates, e.g. 'ABC (1).jpg' but only when running on Google Drive:\n",
        "  image_names = [img for img in all_image_names if ' (' not in img]\n",
        "  \n",
        "  num_samples = len(image_names)\n",
        "  \n",
        "  try:\n",
        "    X_train = np.load(get_matrix_file_name())\n",
        "  except FileNotFoundError:\n",
        "    X_train = np.zeros((num_samples, img_rows, img_cols, channels))\n",
        "  \n",
        "  has_changed = False\n",
        "  \n",
        "  for counter, image_name in enumerate(sorted(image_names)):    \n",
        "    \n",
        "    if np.any(X_train[counter,...]!=0) or (image_name in get_skipped_banners()):\n",
        "      continue\n",
        "    \n",
        "    if (counter+1) % 100 == 0:\n",
        "      print('Iteration {}/{}'.format(counter+1, num_samples))\n",
        "      if has_changed:\n",
        "        print('Saving.')\n",
        "        np.save(get_matrix_file_name(), X_train)\n",
        "        has_changed = False\n",
        "\n",
        "    image = load_img(image_name, target_size=(img_rows, img_cols))    \n",
        "    has_changed = True\n",
        "    \n",
        "    # Grayscale\n",
        "    if channels==1:\n",
        "      X_train[counter,:,:] = np.mean(image, axis=2)\n",
        "    else:\n",
        "      X_train[counter,:,:,:] = image    \n",
        "  \n",
        "  if has_changed:\n",
        "    print('Saving.')\n",
        "    np.save(get_matrix_file_name(), X_train)\n",
        "  \n",
        "  return X_train"
      ],
      "execution_count": 0,
      "outputs": []
    },
    {
      "metadata": {
        "id": "QHohApiTB9MV",
        "colab_type": "code",
        "colab": {}
      },
      "cell_type": "code",
      "source": [
        "X_train = prepare_data_matrix()  "
      ],
      "execution_count": 0,
      "outputs": []
    },
    {
      "metadata": {
        "id": "-hhai2cvFmC6",
        "colab_type": "text"
      },
      "cell_type": "markdown",
      "source": [
        "Load pre-computed aggregate of resized Steam banners"
      ]
    },
    {
      "metadata": {
        "id": "1OTdRIYZq5gu",
        "colab_type": "code",
        "outputId": "b969f3e4-0ec5-40c2-e0e5-54492d3e7304",
        "colab": {
          "base_uri": "https://localhost:8080/",
          "height": 35
        }
      },
      "cell_type": "code",
      "source": [
        "X_train = np.load(get_matrix_file_name())\n",
        "\n",
        "X_train.shape"
      ],
      "execution_count": 21,
      "outputs": [
        {
          "output_type": "execute_result",
          "data": {
            "text/plain": [
              "(31718, 11, 23, 3)"
            ]
          },
          "metadata": {
            "tags": []
          },
          "execution_count": 21
        }
      ]
    },
    {
      "metadata": {
        "id": "5VZGh405ELwD",
        "colab_type": "text"
      },
      "cell_type": "markdown",
      "source": [
        "Display Steam banners of real games"
      ]
    },
    {
      "metadata": {
        "id": "rzefhJcO0KbU",
        "colab_type": "code",
        "outputId": "8893f499-e78d-470e-a94d-97ed3a9d3dbe",
        "colab": {
          "base_uri": "https://localhost:8080/",
          "height": 334
        }
      },
      "cell_type": "code",
      "source": [
        "import matplotlib.pyplot as plt\n",
        "\n",
        "r = 5\n",
        "c = 5\n",
        "\n",
        "fig, axs = plt.subplots(r, c)\n",
        "cnt = 0\n",
        "for i in range(r):\n",
        "    for j in range(c):\n",
        "        image = np.array(X_train[cnt,:,:,:])\n",
        "        # Reference: https://stackoverflow.com/a/51255361\n",
        "        axs[i,j].imshow(image.astype(np.uint8))\n",
        "        axs[i,j].axis('off')\n",
        "        cnt += 1\n",
        "plt.show()        "
      ],
      "execution_count": 22,
      "outputs": [
        {
          "output_type": "display_data",
          "data": {
            "image/png": "[encoded data removed]",
            "text/plain": [
              "<Figure size 576x396 with 25 Axes>"
            ]
          },
          "metadata": {
            "tags": []
          }
        }
      ]
    },
    {
      "metadata": {
        "id": "YUZpo06Z_8o0",
        "colab_type": "text"
      },
      "cell_type": "markdown",
      "source": [
        "## Train GAN"
      ]
    },
    {
      "metadata": {
        "id": "AFq4vqiMAZ_I",
        "colab_type": "text"
      },
      "cell_type": "markdown",
      "source": [
        "Reference: https://github.com/eriklindernoren/Keras-GAN/blob/master/gan/gan.py"
      ]
    },
    {
      "metadata": {
        "id": "hXka_JF5Gvxa",
        "colab_type": "text"
      },
      "cell_type": "markdown",
      "source": [
        "Import Python modules"
      ]
    },
    {
      "metadata": {
        "id": "_o5fMSAvkl47",
        "colab_type": "code",
        "outputId": "907d89c1-1e26-4a4e-8121-a0834f59271b",
        "colab": {
          "base_uri": "https://localhost:8080/",
          "height": 35
        }
      },
      "cell_type": "code",
      "source": [
        "from keras.layers import Input, Dense, Reshape, Flatten, Dropout\n",
        "from keras.layers import BatchNormalization, Activation, ZeroPadding2D\n",
        "from keras.layers.advanced_activations import LeakyReLU\n",
        "from keras.layers.convolutional import UpSampling2D, Conv2D\n",
        "from keras.models import Sequential, Model\n",
        "from keras.optimizers import Adam\n",
        "\n",
        "import matplotlib.pyplot as plt\n",
        "\n",
        "import numpy as np"
      ],
      "execution_count": 25,
      "outputs": [
        {
          "output_type": "stream",
          "text": [
            "Using TensorFlow backend.\n"
          ],
          "name": "stderr"
        }
      ]
    },
    {
      "metadata": {
        "id": "p-ckfvMej80B",
        "colab_type": "code",
        "colab": {}
      },
      "cell_type": "code",
      "source": [
        "class GAN():\n",
        "    # CODE CHANGED BELOW\n",
        "    def __init__(self, img_rows=11, img_cols=23, channels=3):\n",
        "        self.img_rows = img_rows # 215\n",
        "        self.img_cols = img_cols # 460\n",
        "        self.channels = channels # 3\n",
        "        self.img_shape = (self.img_rows, self.img_cols, self.channels)\n",
        "        self.latent_dim = 100\n",
        "\n",
        "        # CODE CHANGED BELOW  \n",
        "        self.image_folder = 'images_steam_gan/'\n",
        "        Path(self.image_folder).mkdir(exist_ok=True)             \n",
        "        \n",
        "        optimizer = Adam(0.0002, 0.5)\n",
        "\n",
        "        # Build and compile the discriminator\n",
        "        self.discriminator = self.build_discriminator()\n",
        "        self.discriminator.compile(loss='binary_crossentropy',\n",
        "            optimizer=optimizer,\n",
        "            metrics=['accuracy'])\n",
        "\n",
        "        # Build the generator\n",
        "        self.generator = self.build_generator()\n",
        "\n",
        "        # The generator takes noise as input and generates imgs\n",
        "        z = Input(shape=(self.latent_dim,))\n",
        "        img = self.generator(z)\n",
        "\n",
        "        # For the combined model we will only train the generator\n",
        "        self.discriminator.trainable = False\n",
        "\n",
        "        # The discriminator takes generated images as input and determines validity\n",
        "        validity = self.discriminator(img)\n",
        "\n",
        "        # The combined model  (stacked generator and discriminator)\n",
        "        # Trains the generator to fool the discriminator\n",
        "        self.combined = Model(z, validity)\n",
        "        self.combined.compile(loss='binary_crossentropy', optimizer=optimizer)\n",
        "\n",
        "\n",
        "    def build_generator(self):\n",
        "\n",
        "        model = Sequential()\n",
        "\n",
        "        model.add(Dense(256, input_dim=self.latent_dim))\n",
        "        model.add(LeakyReLU(alpha=0.2))\n",
        "        model.add(BatchNormalization(momentum=0.8))\n",
        "        model.add(Dense(512))\n",
        "        model.add(LeakyReLU(alpha=0.2))\n",
        "        model.add(BatchNormalization(momentum=0.8))\n",
        "        model.add(Dense(1024))\n",
        "        model.add(LeakyReLU(alpha=0.2))\n",
        "        model.add(BatchNormalization(momentum=0.8))\n",
        "        model.add(Dense(np.prod(self.img_shape)))\n",
        "        model.add(Activation('tanh'))\n",
        "        model.add(Reshape(self.img_shape))\n",
        "\n",
        "        model.summary()\n",
        "\n",
        "        noise = Input(shape=(self.latent_dim,))\n",
        "        img = model(noise)\n",
        "\n",
        "        return Model(noise, img)\n",
        "\n",
        "    def build_discriminator(self):\n",
        "\n",
        "        model = Sequential()\n",
        "\n",
        "        model.add(Flatten(input_shape=self.img_shape))\n",
        "        model.add(Dense(512))\n",
        "        model.add(LeakyReLU(alpha=0.2))\n",
        "        model.add(Dense(256))\n",
        "        model.add(LeakyReLU(alpha=0.2))\n",
        "        model.add(Dense(1, activation='sigmoid'))\n",
        "        model.summary()\n",
        "\n",
        "        img = Input(shape=self.img_shape)\n",
        "        validity = model(img)\n",
        "\n",
        "        return Model(img, validity)\n",
        "\n",
        "    def train(self, epochs, batch_size=128, sample_interval=50):\n",
        "\n",
        "        # Load the dataset\n",
        "        # CODE CHANGED BELOW\n",
        "        X_train = np.load(get_matrix_file_name())\n",
        "        if self.channels == 1:\n",
        "          X_train = np.mean(X_train, axis=3)\n",
        "\n",
        "        # Rescale -1 to 1\n",
        "        X_train = X_train / 127.5 - 1.\n",
        "        # CODE CHANGED BELOW\n",
        "        if self.channels == 1:\n",
        "          X_train = np.expand_dims(X_train, axis=3)\n",
        "\n",
        "        # Adversarial ground truths\n",
        "        valid = np.ones((batch_size, 1))\n",
        "        fake = np.zeros((batch_size, 1))\n",
        "\n",
        "        for epoch in range(epochs):\n",
        "\n",
        "            # ---------------------\n",
        "            #  Train Discriminator\n",
        "            # ---------------------\n",
        "\n",
        "            # Select a random batch of images\n",
        "            idx = np.random.randint(0, X_train.shape[0], batch_size)\n",
        "            imgs = X_train[idx]\n",
        "\n",
        "            noise = np.random.normal(0, 1, (batch_size, self.latent_dim))\n",
        "\n",
        "            # Generate a batch of new images\n",
        "            gen_imgs = self.generator.predict(noise)\n",
        "\n",
        "            # Train the discriminator\n",
        "            d_loss_real = self.discriminator.train_on_batch(imgs, valid)\n",
        "            d_loss_fake = self.discriminator.train_on_batch(gen_imgs, fake)\n",
        "            d_loss = 0.5 * np.add(d_loss_real, d_loss_fake)\n",
        "\n",
        "            # ---------------------\n",
        "            #  Train Generator\n",
        "            # ---------------------\n",
        "\n",
        "            noise = np.random.normal(0, 1, (batch_size, self.latent_dim))\n",
        "\n",
        "            # Train the generator (to have the discriminator label samples as valid)\n",
        "            g_loss = self.combined.train_on_batch(noise, valid)\n",
        "\n",
        "            # Plot the progress\n",
        "            if epoch % 100 == 0:\n",
        "              print (\"%d [D loss: %f, acc.: %.2f%%] [G loss: %f]\" % (epoch, d_loss[0], 100*d_loss[1], g_loss))\n",
        "\n",
        "            # If at save interval => save generated image samples\n",
        "            if epoch % sample_interval == 0:\n",
        "                self.sample_images(epoch)\n",
        "\n",
        "    def sample_images(self, epoch):\n",
        "        r, c = 5, 5\n",
        "        noise = np.random.normal(0, 1, (r * c, self.latent_dim))\n",
        "        gen_imgs = self.generator.predict(noise)\n",
        "\n",
        "        # Rescale images 0 - 1\n",
        "        gen_imgs = 0.5 * gen_imgs + 0.5\n",
        "\n",
        "        fig, axs = plt.subplots(r, c)\n",
        "        cnt = 0\n",
        "        for i in range(r):\n",
        "            for j in range(c):\n",
        "              # CODE CHANGED BELOW\n",
        "                if gen_imgs.shape[-1]>1:\n",
        "                  axs[i,j].imshow(gen_imgs[cnt, :,:,:])\n",
        "                else:\n",
        "                  axs[i,j].imshow(gen_imgs[cnt, :,:,0])                    \n",
        "                axs[i,j].axis('off')\n",
        "                cnt += 1\n",
        "        # CODE CHANGED BELOW                \n",
        "        fig.savefig(self.image_folder + \"%d.png\" % epoch)\n",
        "        plt.close()"
      ],
      "execution_count": 0,
      "outputs": []
    },
    {
      "metadata": {
        "id": "uYBO_z2Kki86",
        "colab_type": "code",
        "outputId": "113172ec-0b6d-40c9-e7d9-dffb2920e805",
        "colab": {
          "base_uri": "https://localhost:8080/",
          "height": 6612
        }
      },
      "cell_type": "code",
      "source": [
        "gan = GAN()\n",
        "gan.train(epochs=30000, batch_size=32, sample_interval=200)"
      ],
      "execution_count": 27,
      "outputs": [
        {
          "output_type": "stream",
          "text": [
            "WARNING:tensorflow:From /usr/local/lib/python3.6/dist-packages/tensorflow/python/framework/op_def_library.py:263: colocate_with (from tensorflow.python.framework.ops) is deprecated and will be removed in a future version.\n",
            "Instructions for updating:\n",
            "Colocations handled automatically by placer.\n",
            "_________________________________________________________________\n",
            "Layer (type)                 Output Shape              Param #   \n",
            "=================================================================\n",
            "flatten_1 (Flatten)          (None, 759)               0         \n",
            "_________________________________________________________________\n",
            "dense_1 (Dense)              (None, 512)               389120    \n",
            "_________________________________________________________________\n",
            "leaky_re_lu_1 (LeakyReLU)    (None, 512)               0         \n",
            "_________________________________________________________________\n",
            "dense_2 (Dense)              (None, 256)               131328    \n",
            "_________________________________________________________________\n",
            "leaky_re_lu_2 (LeakyReLU)    (None, 256)               0         \n",
            "_________________________________________________________________\n",
            "dense_3 (Dense)              (None, 1)                 257       \n",
            "=================================================================\n",
            "Total params: 520,705\n",
            "Trainable params: 520,705\n",
            "Non-trainable params: 0\n",
            "_________________________________________________________________\n",
            "_________________________________________________________________\n",
            "Layer (type)                 Output Shape              Param #   \n",
            "=================================================================\n",
            "dense_4 (Dense)              (None, 256)               25856     \n",
            "_________________________________________________________________\n",
            "leaky_re_lu_3 (LeakyReLU)    (None, 256)               0         \n",
            "_________________________________________________________________\n",
            "batch_normalization_1 (Batch (None, 256)               1024      \n",
            "_________________________________________________________________\n",
            "dense_5 (Dense)              (None, 512)               131584    \n",
            "_________________________________________________________________\n",
            "leaky_re_lu_4 (LeakyReLU)    (None, 512)               0         \n",
            "_________________________________________________________________\n",
            "batch_normalization_2 (Batch (None, 512)               2048      \n",
            "_________________________________________________________________\n",
            "dense_6 (Dense)              (None, 1024)              525312    \n",
            "_________________________________________________________________\n",
            "leaky_re_lu_5 (LeakyReLU)    (None, 1024)              0         \n",
            "_________________________________________________________________\n",
            "batch_normalization_3 (Batch (None, 1024)              4096      \n",
            "_________________________________________________________________\n",
            "dense_7 (Dense)              (None, 759)               777975    \n",
            "_________________________________________________________________\n",
            "activation_1 (Activation)    (None, 759)               0         \n",
            "_________________________________________________________________\n",
            "reshape_1 (Reshape)          (None, 11, 23, 3)         0         \n",
            "=================================================================\n",
            "Total params: 1,467,895\n",
            "Trainable params: 1,464,311\n",
            "Non-trainable params: 3,584\n",
            "_________________________________________________________________\n",
            "WARNING:tensorflow:From /usr/local/lib/python3.6/dist-packages/tensorflow/python/ops/math_ops.py:3066: to_int32 (from tensorflow.python.ops.math_ops) is deprecated and will be removed in a future version.\n",
            "Instructions for updating:\n",
            "Use tf.cast instead.\n"
          ],
          "name": "stdout"
        },
        {
          "output_type": "stream",
          "text": [
            "/usr/local/lib/python3.6/dist-packages/keras/engine/training.py:490: UserWarning: Discrepancy between trainable weights and collected trainable weights, did you set `model.trainable` without calling `model.compile` after ?\n",
            "  'Discrepancy between trainable weights and collected trainable'\n"
          ],
          "name": "stderr"
        },
        {
          "output_type": "stream",
          "text": [
            "0 [D loss: 0.612384, acc.: 45.31%] [G loss: 0.353570]\n",
            "100 [D loss: 0.671274, acc.: 60.94%] [G loss: 1.071229]\n",
            "200 [D loss: 0.796986, acc.: 42.19%] [G loss: 0.949731]\n",
            "300 [D loss: 0.769000, acc.: 50.00%] [G loss: 1.031098]\n",
            "400 [D loss: 0.751190, acc.: 46.88%] [G loss: 0.897789]\n",
            "500 [D loss: 0.772735, acc.: 45.31%] [G loss: 0.873435]\n",
            "600 [D loss: 0.751747, acc.: 53.12%] [G loss: 0.838766]\n",
            "700 [D loss: 0.694887, acc.: 54.69%] [G loss: 0.820904]\n",
            "800 [D loss: 0.730681, acc.: 51.56%] [G loss: 0.821704]\n",
            "900 [D loss: 0.732646, acc.: 42.19%] [G loss: 0.744304]\n",
            "1000 [D loss: 0.716293, acc.: 48.44%] [G loss: 0.730251]\n",
            "1100 [D loss: 0.700750, acc.: 51.56%] [G loss: 0.756590]\n",
            "1200 [D loss: 0.732994, acc.: 42.19%] [G loss: 0.742656]\n",
            "1300 [D loss: 0.698415, acc.: 51.56%] [G loss: 0.754498]\n",
            "1400 [D loss: 0.704456, acc.: 46.88%] [G loss: 0.710204]\n",
            "1500 [D loss: 0.699027, acc.: 51.56%] [G loss: 0.720218]\n",
            "1600 [D loss: 0.711853, acc.: 42.19%] [G loss: 0.755503]\n",
            "1700 [D loss: 0.703227, acc.: 51.56%] [G loss: 0.773154]\n",
            "1800 [D loss: 0.691981, acc.: 56.25%] [G loss: 0.715992]\n",
            "1900 [D loss: 0.692216, acc.: 50.00%] [G loss: 0.803103]\n",
            "2000 [D loss: 0.702322, acc.: 48.44%] [G loss: 0.726836]\n",
            "2100 [D loss: 0.681307, acc.: 48.44%] [G loss: 0.737260]\n",
            "2200 [D loss: 0.693232, acc.: 42.19%] [G loss: 0.758308]\n",
            "2300 [D loss: 0.704161, acc.: 48.44%] [G loss: 0.747269]\n",
            "2400 [D loss: 0.733399, acc.: 45.31%] [G loss: 0.740969]\n",
            "2500 [D loss: 0.684819, acc.: 59.38%] [G loss: 0.745182]\n",
            "2600 [D loss: 0.708574, acc.: 42.19%] [G loss: 0.736961]\n",
            "2700 [D loss: 0.705584, acc.: 35.94%] [G loss: 0.738169]\n",
            "2800 [D loss: 0.707099, acc.: 48.44%] [G loss: 0.687833]\n",
            "2900 [D loss: 0.718811, acc.: 40.62%] [G loss: 0.704724]\n",
            "3000 [D loss: 0.712569, acc.: 43.75%] [G loss: 0.712846]\n",
            "3100 [D loss: 0.693919, acc.: 50.00%] [G loss: 0.718247]\n",
            "3200 [D loss: 0.690689, acc.: 50.00%] [G loss: 0.709151]\n",
            "3300 [D loss: 0.701690, acc.: 50.00%] [G loss: 0.703969]\n",
            "3400 [D loss: 0.726149, acc.: 40.62%] [G loss: 0.705988]\n",
            "3500 [D loss: 0.704641, acc.: 50.00%] [G loss: 0.707449]\n",
            "3600 [D loss: 0.684192, acc.: 57.81%] [G loss: 0.719642]\n",
            "3700 [D loss: 0.709739, acc.: 40.62%] [G loss: 0.725076]\n",
            "3800 [D loss: 0.679022, acc.: 59.38%] [G loss: 0.719438]\n",
            "3900 [D loss: 0.702326, acc.: 39.06%] [G loss: 0.699939]\n",
            "4000 [D loss: 0.688535, acc.: 54.69%] [G loss: 0.707912]\n",
            "4100 [D loss: 0.678140, acc.: 64.06%] [G loss: 0.717853]\n",
            "4200 [D loss: 0.698355, acc.: 42.19%] [G loss: 0.743064]\n",
            "4300 [D loss: 0.698305, acc.: 56.25%] [G loss: 0.701830]\n",
            "4400 [D loss: 0.702037, acc.: 42.19%] [G loss: 0.716932]\n",
            "4500 [D loss: 0.711026, acc.: 35.94%] [G loss: 0.663100]\n",
            "4600 [D loss: 0.700143, acc.: 46.88%] [G loss: 0.696681]\n",
            "4700 [D loss: 0.694815, acc.: 40.62%] [G loss: 0.700927]\n",
            "4800 [D loss: 0.713802, acc.: 40.62%] [G loss: 0.685332]\n",
            "4900 [D loss: 0.694940, acc.: 53.12%] [G loss: 0.686637]\n",
            "5000 [D loss: 0.710929, acc.: 48.44%] [G loss: 0.690879]\n",
            "5100 [D loss: 0.689900, acc.: 54.69%] [G loss: 0.716763]\n",
            "5200 [D loss: 0.708756, acc.: 35.94%] [G loss: 0.712957]\n",
            "5300 [D loss: 0.703599, acc.: 39.06%] [G loss: 0.708051]\n",
            "5400 [D loss: 0.710635, acc.: 46.88%] [G loss: 0.680761]\n",
            "5500 [D loss: 0.702880, acc.: 43.75%] [G loss: 0.704422]\n",
            "5600 [D loss: 0.697762, acc.: 50.00%] [G loss: 0.674864]\n",
            "5700 [D loss: 0.714969, acc.: 31.25%] [G loss: 0.723266]\n",
            "5800 [D loss: 0.702723, acc.: 43.75%] [G loss: 0.708071]\n",
            "5900 [D loss: 0.691789, acc.: 51.56%] [G loss: 0.694951]\n",
            "6000 [D loss: 0.696826, acc.: 43.75%] [G loss: 0.693749]\n",
            "6100 [D loss: 0.697791, acc.: 50.00%] [G loss: 0.712969]\n",
            "6200 [D loss: 0.704978, acc.: 48.44%] [G loss: 0.714209]\n",
            "6300 [D loss: 0.698771, acc.: 37.50%] [G loss: 0.704090]\n",
            "6400 [D loss: 0.689652, acc.: 48.44%] [G loss: 0.702167]\n",
            "6500 [D loss: 0.690635, acc.: 59.38%] [G loss: 0.681550]\n",
            "6600 [D loss: 0.697430, acc.: 50.00%] [G loss: 0.688341]\n",
            "6700 [D loss: 0.695292, acc.: 50.00%] [G loss: 0.714363]\n",
            "6800 [D loss: 0.722739, acc.: 32.81%] [G loss: 0.702820]\n",
            "6900 [D loss: 0.701166, acc.: 42.19%] [G loss: 0.721877]\n",
            "7000 [D loss: 0.727257, acc.: 45.31%] [G loss: 0.717429]\n",
            "7100 [D loss: 0.684606, acc.: 56.25%] [G loss: 0.712536]\n",
            "7200 [D loss: 0.704769, acc.: 48.44%] [G loss: 0.684852]\n",
            "7300 [D loss: 0.704724, acc.: 43.75%] [G loss: 0.701784]\n",
            "7400 [D loss: 0.692632, acc.: 51.56%] [G loss: 0.702358]\n",
            "7500 [D loss: 0.695673, acc.: 45.31%] [G loss: 0.707897]\n",
            "7600 [D loss: 0.696234, acc.: 46.88%] [G loss: 0.716293]\n",
            "7700 [D loss: 0.700534, acc.: 48.44%] [G loss: 0.721661]\n",
            "7800 [D loss: 0.697216, acc.: 54.69%] [G loss: 0.703059]\n",
            "7900 [D loss: 0.685666, acc.: 56.25%] [G loss: 0.708020]\n",
            "8000 [D loss: 0.693445, acc.: 53.12%] [G loss: 0.729596]\n",
            "8100 [D loss: 0.696254, acc.: 53.12%] [G loss: 0.705734]\n",
            "8200 [D loss: 0.713585, acc.: 43.75%] [G loss: 0.712552]\n",
            "8300 [D loss: 0.711791, acc.: 48.44%] [G loss: 0.723796]\n",
            "8400 [D loss: 0.684502, acc.: 53.12%] [G loss: 0.736358]\n",
            "8500 [D loss: 0.699807, acc.: 57.81%] [G loss: 0.703916]\n",
            "8600 [D loss: 0.707767, acc.: 43.75%] [G loss: 0.716652]\n",
            "8700 [D loss: 0.714605, acc.: 45.31%] [G loss: 0.706093]\n",
            "8800 [D loss: 0.712373, acc.: 43.75%] [G loss: 0.714381]\n",
            "8900 [D loss: 0.683642, acc.: 57.81%] [G loss: 0.715864]\n",
            "9000 [D loss: 0.694158, acc.: 51.56%] [G loss: 0.767941]\n",
            "9100 [D loss: 0.692034, acc.: 51.56%] [G loss: 0.764557]\n",
            "9200 [D loss: 0.701195, acc.: 40.62%] [G loss: 0.703224]\n",
            "9300 [D loss: 0.699313, acc.: 54.69%] [G loss: 0.717091]\n",
            "9400 [D loss: 0.680578, acc.: 57.81%] [G loss: 0.713170]\n",
            "9500 [D loss: 0.695034, acc.: 43.75%] [G loss: 0.716085]\n",
            "9600 [D loss: 0.691048, acc.: 42.19%] [G loss: 0.714487]\n",
            "9700 [D loss: 0.721634, acc.: 32.81%] [G loss: 0.711075]\n",
            "9800 [D loss: 0.693283, acc.: 48.44%] [G loss: 0.687859]\n",
            "9900 [D loss: 0.700393, acc.: 50.00%] [G loss: 0.722938]\n",
            "10000 [D loss: 0.679968, acc.: 59.38%] [G loss: 0.724286]\n",
            "10100 [D loss: 0.689171, acc.: 60.94%] [G loss: 0.718831]\n",
            "10200 [D loss: 0.703247, acc.: 45.31%] [G loss: 0.750464]\n",
            "10300 [D loss: 0.699208, acc.: 37.50%] [G loss: 0.692840]\n",
            "10400 [D loss: 0.682892, acc.: 56.25%] [G loss: 0.741789]\n",
            "10500 [D loss: 0.706272, acc.: 43.75%] [G loss: 0.705547]\n",
            "10600 [D loss: 0.693846, acc.: 48.44%] [G loss: 0.712344]\n",
            "10700 [D loss: 0.698413, acc.: 54.69%] [G loss: 0.701135]\n",
            "10800 [D loss: 0.681879, acc.: 56.25%] [G loss: 0.728692]\n",
            "10900 [D loss: 0.694694, acc.: 51.56%] [G loss: 0.730840]\n",
            "11000 [D loss: 0.685783, acc.: 48.44%] [G loss: 0.716119]\n",
            "11100 [D loss: 0.698341, acc.: 48.44%] [G loss: 0.718744]\n",
            "11200 [D loss: 0.693597, acc.: 48.44%] [G loss: 0.695324]\n",
            "11300 [D loss: 0.699792, acc.: 43.75%] [G loss: 0.693808]\n",
            "11400 [D loss: 0.685228, acc.: 53.12%] [G loss: 0.747495]\n",
            "11500 [D loss: 0.680352, acc.: 64.06%] [G loss: 0.734027]\n",
            "11600 [D loss: 0.702636, acc.: 45.31%] [G loss: 0.698831]\n",
            "11700 [D loss: 0.696212, acc.: 53.12%] [G loss: 0.708026]\n",
            "11800 [D loss: 0.652354, acc.: 67.19%] [G loss: 0.697222]\n",
            "11900 [D loss: 0.683960, acc.: 59.38%] [G loss: 0.728564]\n",
            "12000 [D loss: 0.695961, acc.: 53.12%] [G loss: 0.710297]\n",
            "12100 [D loss: 0.700603, acc.: 48.44%] [G loss: 0.706463]\n",
            "12200 [D loss: 0.707940, acc.: 40.62%] [G loss: 0.702082]\n",
            "12300 [D loss: 0.697261, acc.: 45.31%] [G loss: 0.711189]\n",
            "12400 [D loss: 0.706655, acc.: 46.88%] [G loss: 0.724570]\n",
            "12500 [D loss: 0.689254, acc.: 57.81%] [G loss: 0.727142]\n",
            "12600 [D loss: 0.706555, acc.: 53.12%] [G loss: 0.714273]\n",
            "12700 [D loss: 0.682325, acc.: 54.69%] [G loss: 0.698266]\n",
            "12800 [D loss: 0.698640, acc.: 51.56%] [G loss: 0.710072]\n",
            "12900 [D loss: 0.665394, acc.: 67.19%] [G loss: 0.726758]\n",
            "13000 [D loss: 0.694846, acc.: 40.62%] [G loss: 0.701217]\n",
            "13100 [D loss: 0.693952, acc.: 59.38%] [G loss: 0.714299]\n",
            "13200 [D loss: 0.694919, acc.: 57.81%] [G loss: 0.709318]\n",
            "13300 [D loss: 0.698820, acc.: 51.56%] [G loss: 0.685982]\n",
            "13400 [D loss: 0.688758, acc.: 53.12%] [G loss: 0.717579]\n",
            "13500 [D loss: 0.675900, acc.: 54.69%] [G loss: 0.727639]\n",
            "13600 [D loss: 0.700278, acc.: 42.19%] [G loss: 0.710216]\n",
            "13700 [D loss: 0.693349, acc.: 40.62%] [G loss: 0.705896]\n",
            "13800 [D loss: 0.692723, acc.: 51.56%] [G loss: 0.694779]\n",
            "13900 [D loss: 0.684923, acc.: 45.31%] [G loss: 0.727305]\n",
            "14000 [D loss: 0.695384, acc.: 43.75%] [G loss: 0.688411]\n",
            "14100 [D loss: 0.680029, acc.: 59.38%] [G loss: 0.707280]\n",
            "14200 [D loss: 0.694785, acc.: 51.56%] [G loss: 0.714755]\n",
            "14300 [D loss: 0.688979, acc.: 53.12%] [G loss: 0.706260]\n",
            "14400 [D loss: 0.703241, acc.: 51.56%] [G loss: 0.709901]\n",
            "14500 [D loss: 0.682940, acc.: 56.25%] [G loss: 0.693650]\n",
            "14600 [D loss: 0.697407, acc.: 45.31%] [G loss: 0.676650]\n",
            "14700 [D loss: 0.678535, acc.: 57.81%] [G loss: 0.789015]\n",
            "14800 [D loss: 0.678956, acc.: 60.94%] [G loss: 0.738284]\n",
            "14900 [D loss: 0.684572, acc.: 53.12%] [G loss: 0.700489]\n",
            "15000 [D loss: 0.688311, acc.: 56.25%] [G loss: 0.687326]\n",
            "15100 [D loss: 0.693378, acc.: 51.56%] [G loss: 0.708046]\n",
            "15200 [D loss: 0.687283, acc.: 62.50%] [G loss: 0.692587]\n",
            "15300 [D loss: 0.695374, acc.: 45.31%] [G loss: 0.719900]\n",
            "15400 [D loss: 0.679364, acc.: 56.25%] [G loss: 0.713999]\n",
            "15500 [D loss: 0.692871, acc.: 54.69%] [G loss: 0.697474]\n",
            "15600 [D loss: 0.690632, acc.: 50.00%] [G loss: 0.697716]\n",
            "15700 [D loss: 0.683717, acc.: 54.69%] [G loss: 0.782545]\n",
            "15800 [D loss: 0.694833, acc.: 42.19%] [G loss: 0.693963]\n",
            "15900 [D loss: 0.700891, acc.: 46.88%] [G loss: 0.700216]\n",
            "16000 [D loss: 0.696939, acc.: 51.56%] [G loss: 0.699250]\n",
            "16100 [D loss: 0.708772, acc.: 43.75%] [G loss: 0.698651]\n",
            "16200 [D loss: 0.697403, acc.: 51.56%] [G loss: 0.703895]\n",
            "16300 [D loss: 0.699833, acc.: 43.75%] [G loss: 0.706075]\n",
            "16400 [D loss: 0.687571, acc.: 48.44%] [G loss: 0.707000]\n",
            "16500 [D loss: 0.709010, acc.: 39.06%] [G loss: 0.690963]\n",
            "16600 [D loss: 0.715480, acc.: 39.06%] [G loss: 0.713418]\n",
            "16700 [D loss: 0.689821, acc.: 51.56%] [G loss: 0.722350]\n",
            "16800 [D loss: 0.700997, acc.: 40.62%] [G loss: 0.692800]\n",
            "16900 [D loss: 0.702679, acc.: 40.62%] [G loss: 0.737913]\n",
            "17000 [D loss: 0.694128, acc.: 54.69%] [G loss: 0.729417]\n",
            "17100 [D loss: 0.686291, acc.: 54.69%] [G loss: 0.700004]\n",
            "17200 [D loss: 0.697017, acc.: 40.62%] [G loss: 0.714531]\n",
            "17300 [D loss: 0.681086, acc.: 46.88%] [G loss: 0.742101]\n",
            "17400 [D loss: 0.660675, acc.: 64.06%] [G loss: 0.764541]\n",
            "17500 [D loss: 0.684577, acc.: 53.12%] [G loss: 0.697122]\n",
            "17600 [D loss: 0.700984, acc.: 42.19%] [G loss: 0.686238]\n",
            "17700 [D loss: 0.693809, acc.: 50.00%] [G loss: 0.712689]\n",
            "17800 [D loss: 0.692549, acc.: 48.44%] [G loss: 0.714593]\n",
            "17900 [D loss: 0.689125, acc.: 53.12%] [G loss: 0.720409]\n",
            "18000 [D loss: 0.698841, acc.: 53.12%] [G loss: 0.696476]\n",
            "18100 [D loss: 0.685215, acc.: 56.25%] [G loss: 0.708351]\n",
            "18200 [D loss: 0.699687, acc.: 51.56%] [G loss: 0.716117]\n",
            "18300 [D loss: 0.690992, acc.: 51.56%] [G loss: 0.706419]\n",
            "18400 [D loss: 0.699396, acc.: 50.00%] [G loss: 0.696382]\n",
            "18500 [D loss: 0.687312, acc.: 53.12%] [G loss: 0.704586]\n",
            "18600 [D loss: 0.689711, acc.: 45.31%] [G loss: 0.718833]\n",
            "18700 [D loss: 0.695626, acc.: 50.00%] [G loss: 0.727234]\n",
            "18800 [D loss: 0.679779, acc.: 59.38%] [G loss: 0.717044]\n",
            "18900 [D loss: 0.691633, acc.: 56.25%] [G loss: 0.704062]\n",
            "19000 [D loss: 0.713642, acc.: 45.31%] [G loss: 0.695970]\n",
            "19100 [D loss: 0.704744, acc.: 42.19%] [G loss: 0.712289]\n",
            "19200 [D loss: 0.680656, acc.: 54.69%] [G loss: 0.702301]\n",
            "19300 [D loss: 0.696657, acc.: 50.00%] [G loss: 0.710024]\n",
            "19400 [D loss: 0.678632, acc.: 62.50%] [G loss: 0.709117]\n",
            "19500 [D loss: 0.680763, acc.: 56.25%] [G loss: 0.750184]\n",
            "19600 [D loss: 0.695268, acc.: 46.88%] [G loss: 0.716291]\n",
            "19700 [D loss: 0.702307, acc.: 48.44%] [G loss: 0.718118]\n",
            "19800 [D loss: 0.679739, acc.: 60.94%] [G loss: 0.696208]\n",
            "19900 [D loss: 0.693097, acc.: 48.44%] [G loss: 0.721736]\n",
            "20000 [D loss: 0.709692, acc.: 42.19%] [G loss: 0.695305]\n",
            "20100 [D loss: 0.694911, acc.: 50.00%] [G loss: 0.686824]\n",
            "20200 [D loss: 0.680867, acc.: 50.00%] [G loss: 0.725225]\n",
            "20300 [D loss: 0.693820, acc.: 54.69%] [G loss: 0.696280]\n",
            "20400 [D loss: 0.689014, acc.: 51.56%] [G loss: 0.697682]\n",
            "20500 [D loss: 0.686839, acc.: 50.00%] [G loss: 0.755415]\n",
            "20600 [D loss: 0.690739, acc.: 53.12%] [G loss: 0.722992]\n",
            "20700 [D loss: 0.674255, acc.: 57.81%] [G loss: 0.719947]\n",
            "20800 [D loss: 0.697080, acc.: 56.25%] [G loss: 0.716574]\n",
            "20900 [D loss: 0.717365, acc.: 40.62%] [G loss: 0.671869]\n",
            "21000 [D loss: 0.713300, acc.: 35.94%] [G loss: 0.686064]\n",
            "21100 [D loss: 0.682164, acc.: 57.81%] [G loss: 0.703850]\n",
            "21200 [D loss: 0.691762, acc.: 48.44%] [G loss: 0.712444]\n",
            "21300 [D loss: 0.691758, acc.: 56.25%] [G loss: 0.730477]\n",
            "21400 [D loss: 0.712036, acc.: 46.88%] [G loss: 0.716156]\n",
            "21500 [D loss: 0.699468, acc.: 45.31%] [G loss: 0.691191]\n",
            "21600 [D loss: 0.699223, acc.: 46.88%] [G loss: 0.707168]\n",
            "21700 [D loss: 0.698838, acc.: 42.19%] [G loss: 0.691736]\n",
            "21800 [D loss: 0.701421, acc.: 45.31%] [G loss: 0.703415]\n",
            "21900 [D loss: 0.694004, acc.: 45.31%] [G loss: 0.722871]\n",
            "22000 [D loss: 0.694740, acc.: 53.12%] [G loss: 0.701361]\n",
            "22100 [D loss: 0.691236, acc.: 48.44%] [G loss: 0.711785]\n",
            "22200 [D loss: 0.684917, acc.: 50.00%] [G loss: 0.687469]\n",
            "22300 [D loss: 0.696439, acc.: 42.19%] [G loss: 0.727305]\n",
            "22400 [D loss: 0.696598, acc.: 50.00%] [G loss: 0.686985]\n",
            "22500 [D loss: 0.698082, acc.: 45.31%] [G loss: 0.694061]\n",
            "22600 [D loss: 0.680954, acc.: 60.94%] [G loss: 0.713399]\n",
            "22700 [D loss: 0.700252, acc.: 50.00%] [G loss: 0.736383]\n",
            "22800 [D loss: 0.687378, acc.: 57.81%] [G loss: 0.701720]\n",
            "22900 [D loss: 0.694640, acc.: 43.75%] [G loss: 0.691746]\n",
            "23000 [D loss: 0.695197, acc.: 51.56%] [G loss: 0.715168]\n",
            "23100 [D loss: 0.717804, acc.: 37.50%] [G loss: 0.726450]\n",
            "23200 [D loss: 0.682525, acc.: 57.81%] [G loss: 0.708772]\n",
            "23300 [D loss: 0.695819, acc.: 50.00%] [G loss: 0.724205]\n",
            "23400 [D loss: 0.704528, acc.: 42.19%] [G loss: 0.742009]\n",
            "23500 [D loss: 0.688492, acc.: 53.12%] [G loss: 0.698589]\n",
            "23600 [D loss: 0.695297, acc.: 50.00%] [G loss: 0.733155]\n",
            "23700 [D loss: 0.670827, acc.: 59.38%] [G loss: 0.728366]\n",
            "23800 [D loss: 0.688734, acc.: 59.38%] [G loss: 0.706609]\n",
            "23900 [D loss: 0.696004, acc.: 53.12%] [G loss: 0.720358]\n",
            "24000 [D loss: 0.696934, acc.: 54.69%] [G loss: 0.712424]\n",
            "24100 [D loss: 0.696928, acc.: 53.12%] [G loss: 0.692198]\n",
            "24200 [D loss: 0.704821, acc.: 42.19%] [G loss: 0.714224]\n",
            "24300 [D loss: 0.693116, acc.: 46.88%] [G loss: 0.703615]\n",
            "24400 [D loss: 0.677395, acc.: 60.94%] [G loss: 0.714072]\n",
            "24500 [D loss: 0.688159, acc.: 57.81%] [G loss: 0.726076]\n",
            "24600 [D loss: 0.717231, acc.: 40.62%] [G loss: 0.715966]\n",
            "24700 [D loss: 0.708901, acc.: 53.12%] [G loss: 0.679189]\n",
            "24800 [D loss: 0.690974, acc.: 48.44%] [G loss: 0.720225]\n",
            "24900 [D loss: 0.689471, acc.: 50.00%] [G loss: 0.726551]\n",
            "25000 [D loss: 0.689224, acc.: 53.12%] [G loss: 0.688963]\n",
            "25100 [D loss: 0.682227, acc.: 51.56%] [G loss: 0.708976]\n",
            "25200 [D loss: 0.658157, acc.: 64.06%] [G loss: 0.712183]\n",
            "25300 [D loss: 0.680666, acc.: 54.69%] [G loss: 0.713709]\n",
            "25400 [D loss: 0.676982, acc.: 57.81%] [G loss: 0.723051]\n",
            "25500 [D loss: 0.710998, acc.: 40.62%] [G loss: 0.694356]\n",
            "25600 [D loss: 0.684867, acc.: 56.25%] [G loss: 0.733094]\n",
            "25700 [D loss: 0.698888, acc.: 46.88%] [G loss: 0.709264]\n",
            "25800 [D loss: 0.685651, acc.: 50.00%] [G loss: 0.697076]\n",
            "25900 [D loss: 0.694223, acc.: 54.69%] [G loss: 0.710006]\n",
            "26000 [D loss: 0.694837, acc.: 57.81%] [G loss: 0.691226]\n",
            "26100 [D loss: 0.693337, acc.: 50.00%] [G loss: 0.709217]\n",
            "26200 [D loss: 0.698976, acc.: 51.56%] [G loss: 0.699746]\n",
            "26300 [D loss: 0.688955, acc.: 53.12%] [G loss: 0.704712]\n",
            "26400 [D loss: 0.689859, acc.: 56.25%] [G loss: 0.725331]\n",
            "26500 [D loss: 0.680022, acc.: 56.25%] [G loss: 0.717047]\n",
            "26600 [D loss: 0.710321, acc.: 42.19%] [G loss: 0.703154]\n",
            "26700 [D loss: 0.684761, acc.: 56.25%] [G loss: 0.727345]\n",
            "26800 [D loss: 0.727013, acc.: 42.19%] [G loss: 0.713651]\n",
            "26900 [D loss: 0.701696, acc.: 43.75%] [G loss: 0.713706]\n",
            "27000 [D loss: 0.679055, acc.: 57.81%] [G loss: 0.728884]\n",
            "27100 [D loss: 0.702273, acc.: 46.88%] [G loss: 0.731902]\n",
            "27200 [D loss: 0.693429, acc.: 51.56%] [G loss: 0.735395]\n",
            "27300 [D loss: 0.705743, acc.: 43.75%] [G loss: 0.729090]\n",
            "27400 [D loss: 0.698166, acc.: 45.31%] [G loss: 0.715716]\n",
            "27500 [D loss: 0.682410, acc.: 59.38%] [G loss: 0.713233]\n",
            "27600 [D loss: 0.695951, acc.: 53.12%] [G loss: 0.690469]\n",
            "27700 [D loss: 0.707446, acc.: 46.88%] [G loss: 0.712664]\n",
            "27800 [D loss: 0.681042, acc.: 60.94%] [G loss: 0.735387]\n",
            "27900 [D loss: 0.684384, acc.: 56.25%] [G loss: 0.733568]\n",
            "28000 [D loss: 0.683602, acc.: 59.38%] [G loss: 0.709931]\n",
            "28100 [D loss: 0.700705, acc.: 50.00%] [G loss: 0.708646]\n",
            "28200 [D loss: 0.687858, acc.: 50.00%] [G loss: 0.710184]\n",
            "28300 [D loss: 0.695682, acc.: 48.44%] [G loss: 0.713200]\n",
            "28400 [D loss: 0.701882, acc.: 42.19%] [G loss: 0.683835]\n",
            "28500 [D loss: 0.712894, acc.: 34.38%] [G loss: 0.712387]\n",
            "28600 [D loss: 0.694097, acc.: 46.88%] [G loss: 0.713158]\n",
            "28700 [D loss: 0.685640, acc.: 48.44%] [G loss: 0.705065]\n",
            "28800 [D loss: 0.676631, acc.: 56.25%] [G loss: 0.726686]\n",
            "28900 [D loss: 0.675651, acc.: 57.81%] [G loss: 0.714991]\n",
            "29000 [D loss: 0.694866, acc.: 45.31%] [G loss: 0.716051]\n",
            "29100 [D loss: 0.701881, acc.: 46.88%] [G loss: 0.722906]\n",
            "29200 [D loss: 0.695712, acc.: 53.12%] [G loss: 0.710487]\n",
            "29300 [D loss: 0.697873, acc.: 45.31%] [G loss: 0.711650]\n",
            "29400 [D loss: 0.677797, acc.: 67.19%] [G loss: 0.741313]\n",
            "29500 [D loss: 0.683439, acc.: 54.69%] [G loss: 0.700384]\n",
            "29600 [D loss: 0.687889, acc.: 48.44%] [G loss: 0.711856]\n",
            "29700 [D loss: 0.698137, acc.: 46.88%] [G loss: 0.700251]\n",
            "29800 [D loss: 0.692949, acc.: 53.12%] [G loss: 0.717014]\n",
            "29900 [D loss: 0.695841, acc.: 42.19%] [G loss: 0.722039]\n"
          ],
          "name": "stdout"
        }
      ]
    },
    {
      "metadata": {
        "id": "Pqab6NDhAUyR",
        "colab_type": "text"
      },
      "cell_type": "markdown",
      "source": [
        "Display sampled banners"
      ]
    },
    {
      "metadata": {
        "id": "75EokdnOFFws",
        "colab_type": "code",
        "outputId": "70d6eaab-204c-4ca0-9432-c926ea272bb9",
        "colab": {
          "base_uri": "https://localhost:8080/",
          "height": 369
        }
      },
      "cell_type": "code",
      "source": [
        "plt.imshow(plt.imread(gan.image_folder + '29800.png'))\n",
        "plt.axis('off')"
      ],
      "execution_count": 32,
      "outputs": [
        {
          "output_type": "execute_result",
          "data": {
            "text/plain": [
              "(-0.5, 575.5, 395.5, -0.5)"
            ]
          },
          "metadata": {
            "tags": []
          },
          "execution_count": 32
        },
        {
          "output_type": "display_data",
          "data": {
            "image/png": "[encoded data removed]",
            "text/plain": [
              "<Figure size 576x396 with 1 Axes>"
            ]
          },
          "metadata": {
            "tags": []
          }
        }
      ]
    },
    {
      "metadata": {
        "id": "KHn4bahWAAN1",
        "colab_type": "text"
      },
      "cell_type": "markdown",
      "source": [
        "## Train WGAN"
      ]
    },
    {
      "metadata": {
        "id": "9_PqcB-eHBdZ",
        "colab_type": "text"
      },
      "cell_type": "markdown",
      "source": [
        "Reference: https://github.com/eriklindernoren/Keras-GAN/blob/master/wgan/wgan.py"
      ]
    },
    {
      "metadata": {
        "colab_type": "text",
        "id": "YDFxF7V4HByl"
      },
      "cell_type": "markdown",
      "source": [
        "Import Python modules"
      ]
    },
    {
      "metadata": {
        "colab_type": "code",
        "id": "6T5zu-SIHByu",
        "colab": {}
      },
      "cell_type": "code",
      "source": [
        "from keras.layers import Input, Dense, Reshape, Flatten, Dropout\n",
        "from keras.layers import BatchNormalization, Activation, ZeroPadding2D\n",
        "from keras.layers.advanced_activations import LeakyReLU\n",
        "from keras.layers.convolutional import UpSampling2D, Conv2D\n",
        "from keras.models import Sequential, Model\n",
        "from keras.optimizers import RMSprop\n",
        "\n",
        "import keras.backend as K\n",
        "\n",
        "import matplotlib.pyplot as plt\n",
        "\n",
        "import numpy as np"
      ],
      "execution_count": 0,
      "outputs": []
    },
    {
      "metadata": {
        "id": "lHelm7n-s7o6",
        "colab_type": "code",
        "colab": {}
      },
      "cell_type": "code",
      "source": [
        "class WGAN():\n",
        "    # CODE CHANGED BELOW  \n",
        "    def __init__(self, img_rows=11, img_cols=23, channels=3):\n",
        "        self.img_rows = img_rows # 215\n",
        "        self.img_cols = img_cols # 460\n",
        "        self.channels = channels # 3\n",
        "        self.img_shape = (self.img_rows, self.img_cols, self.channels)\n",
        "        self.latent_dim = 100\n",
        "\n",
        "        # CODE CHANGED BELOW  \n",
        "        self.image_folder = 'images_steam_wgan/'\n",
        "        Path(self.image_folder).mkdir(exist_ok=True)                \n",
        "        \n",
        "        # Following parameter and optimizer set as recommended in paper\n",
        "        self.n_critic = 5\n",
        "        self.clip_value = 0.01\n",
        "        optimizer = RMSprop(lr=0.00005)\n",
        "\n",
        "        # Build and compile the critic\n",
        "        self.critic = self.build_critic()\n",
        "        self.critic.compile(loss=self.wasserstein_loss,\n",
        "            optimizer=optimizer,\n",
        "            metrics=['accuracy'])\n",
        "\n",
        "        # Build the generator\n",
        "        self.generator = self.build_generator()\n",
        "\n",
        "        # The generator takes noise as input and generated imgs\n",
        "        z = Input(shape=(self.latent_dim,))\n",
        "        img = self.generator(z)\n",
        "\n",
        "        # For the combined model we will only train the generator\n",
        "        self.critic.trainable = False\n",
        "\n",
        "        # The critic takes generated images as input and determines validity\n",
        "        valid = self.critic(img)\n",
        "\n",
        "        # The combined model  (stacked generator and critic)\n",
        "        self.combined = Model(z, valid)\n",
        "        self.combined.compile(loss=self.wasserstein_loss,\n",
        "            optimizer=optimizer,\n",
        "            metrics=['accuracy'])\n",
        "\n",
        "    def wasserstein_loss(self, y_true, y_pred):\n",
        "        return K.mean(y_true * y_pred)\n",
        "\n",
        "    def build_generator(self):\n",
        "\n",
        "        model = Sequential()\n",
        "\n",
        "        model.add(Dense(128 * 7 * 7, activation=\"relu\", input_dim=self.latent_dim))\n",
        "        model.add(Reshape((7, 7, 128)))\n",
        "        model.add(UpSampling2D())\n",
        "        model.add(Conv2D(128, kernel_size=4, padding=\"same\"))\n",
        "        model.add(BatchNormalization(momentum=0.8))\n",
        "        model.add(Activation(\"relu\"))\n",
        "        model.add(UpSampling2D())\n",
        "        model.add(Conv2D(64, kernel_size=4, padding=\"same\"))\n",
        "        model.add(BatchNormalization(momentum=0.8))\n",
        "        model.add(Activation(\"relu\"))\n",
        "        model.add(Conv2D(self.channels, kernel_size=4, padding=\"same\"))\n",
        "        model.add(Flatten())\n",
        "        model.add(Dense(np.prod(self.img_shape)))\n",
        "        model.add(Activation('tanh'))\n",
        "        model.add(Reshape(self.img_shape))      \n",
        "\n",
        "        model.summary()\n",
        "\n",
        "        noise = Input(shape=(self.latent_dim,))\n",
        "        img = model(noise)\n",
        "\n",
        "        return Model(noise, img)\n",
        "\n",
        "    def build_critic(self):\n",
        "\n",
        "        model = Sequential()\n",
        "\n",
        "        model.add(Conv2D(16, kernel_size=3, strides=2, input_shape=self.img_shape, padding=\"same\"))\n",
        "        model.add(LeakyReLU(alpha=0.2))\n",
        "        model.add(Dropout(0.25))\n",
        "        model.add(Conv2D(32, kernel_size=3, strides=2, padding=\"same\"))\n",
        "        model.add(ZeroPadding2D(padding=((0,1),(0,1))))\n",
        "        model.add(BatchNormalization(momentum=0.8))\n",
        "        model.add(LeakyReLU(alpha=0.2))\n",
        "        model.add(Dropout(0.25))\n",
        "        model.add(Conv2D(64, kernel_size=3, strides=2, padding=\"same\"))\n",
        "        model.add(BatchNormalization(momentum=0.8))\n",
        "        model.add(LeakyReLU(alpha=0.2))\n",
        "        model.add(Dropout(0.25))\n",
        "        model.add(Conv2D(128, kernel_size=3, strides=1, padding=\"same\"))\n",
        "        model.add(BatchNormalization(momentum=0.8))\n",
        "        model.add(LeakyReLU(alpha=0.2))\n",
        "        model.add(Dropout(0.25))\n",
        "        model.add(Flatten())\n",
        "        model.add(Dense(1))\n",
        "\n",
        "        model.summary()\n",
        "\n",
        "        img = Input(shape=self.img_shape)\n",
        "        validity = model(img)\n",
        "\n",
        "        return Model(img, validity)\n",
        "\n",
        "    def train(self, epochs, batch_size=128, sample_interval=50):\n",
        "\n",
        "        # Load the dataset\n",
        "        # CODE CHANGED BELOW\n",
        "        X_train = np.load(get_matrix_file_name())\n",
        "        if self.channels == 1:\n",
        "          X_train = np.mean(X_train, axis=3)\n",
        "       \n",
        "        # Rescale -1 to 1\n",
        "        X_train = (X_train.astype(np.float32) - 127.5) / 127.5\n",
        "        # CODE CHANGED BELOW\n",
        "        if self.channels == 1:        \n",
        "          X_train = np.expand_dims(X_train, axis=3)\n",
        "\n",
        "        # Adversarial ground truths\n",
        "        valid = -np.ones((batch_size, 1))\n",
        "        fake = np.ones((batch_size, 1))\n",
        "\n",
        "        for epoch in range(epochs):\n",
        "\n",
        "            for _ in range(self.n_critic):\n",
        "\n",
        "                # ---------------------\n",
        "                #  Train Discriminator\n",
        "                # ---------------------\n",
        "\n",
        "                # Select a random batch of images\n",
        "                idx = np.random.randint(0, X_train.shape[0], batch_size)\n",
        "                imgs = X_train[idx]\n",
        "                \n",
        "                # Sample noise as generator input\n",
        "                noise = np.random.normal(0, 1, (batch_size, self.latent_dim))\n",
        "\n",
        "                # Generate a batch of new images\n",
        "                gen_imgs = self.generator.predict(noise)\n",
        "                \n",
        "                # Train the critic\n",
        "                d_loss_real = self.critic.train_on_batch(imgs, valid)\n",
        "                d_loss_fake = self.critic.train_on_batch(gen_imgs, fake)\n",
        "                d_loss = 0.5 * np.add(d_loss_fake, d_loss_real)\n",
        "\n",
        "                # Clip critic weights\n",
        "                for l in self.critic.layers:\n",
        "                    weights = l.get_weights()\n",
        "                    weights = [np.clip(w, -self.clip_value, self.clip_value) for w in weights]\n",
        "                    l.set_weights(weights)\n",
        "\n",
        "\n",
        "            # ---------------------\n",
        "            #  Train Generator\n",
        "            # ---------------------\n",
        "\n",
        "            g_loss = self.combined.train_on_batch(noise, valid)\n",
        "\n",
        "            # Plot the progress\n",
        "            if epoch % 100 == 0:\n",
        "              print (\"%d [D loss: %f] [G loss: %f]\" % (epoch, 1 - d_loss[0], 1 - g_loss[0]))\n",
        "\n",
        "            # If at save interval => save generated image samples\n",
        "            if epoch % sample_interval == 0:\n",
        "                self.sample_images(epoch)\n",
        "\n",
        "    def sample_images(self, epoch):\n",
        "        r, c = 5, 5\n",
        "        noise = np.random.normal(0, 1, (r * c, self.latent_dim))\n",
        "        gen_imgs = self.generator.predict(noise)\n",
        "\n",
        "        # Rescale images 0 - 1\n",
        "        gen_imgs = 0.5 * gen_imgs + 0.5\n",
        "\n",
        "        fig, axs = plt.subplots(r, c)\n",
        "        cnt = 0\n",
        "        for i in range(r):\n",
        "            for j in range(c):\n",
        "                # CODE CHANGED BELOW\n",
        "                if gen_imgs.shape[-1]>1:\n",
        "                  axs[i,j].imshow(gen_imgs[cnt, :,:,:])\n",
        "                else:\n",
        "                  axs[i,j].imshow(gen_imgs[cnt, :,:,0])\n",
        "                axs[i,j].axis('off')\n",
        "                cnt += 1\n",
        "        # CODE CHANGED BELOW                \n",
        "        fig.savefig(self.image_folder + \"%d.png\" % epoch)\n",
        "        plt.close()\n"
      ],
      "execution_count": 0,
      "outputs": []
    },
    {
      "metadata": {
        "id": "RsDHwSmOs8Ac",
        "colab_type": "code",
        "outputId": "2f29f56e-949c-4e60-fed0-c633c4071802",
        "colab": {
          "base_uri": "https://localhost:8080/",
          "height": 2333
        }
      },
      "cell_type": "code",
      "source": [
        "wgan = WGAN()\n",
        "wgan.train(epochs=4000, batch_size=32, sample_interval=50)"
      ],
      "execution_count": 35,
      "outputs": [
        {
          "output_type": "stream",
          "text": [
            "WARNING:tensorflow:From /usr/local/lib/python3.6/dist-packages/keras/backend/tensorflow_backend.py:3445: calling dropout (from tensorflow.python.ops.nn_ops) with keep_prob is deprecated and will be removed in a future version.\n",
            "Instructions for updating:\n",
            "Please use `rate` instead of `keep_prob`. Rate should be set to `rate = 1 - keep_prob`.\n",
            "_________________________________________________________________\n",
            "Layer (type)                 Output Shape              Param #   \n",
            "=================================================================\n",
            "conv2d_1 (Conv2D)            (None, 6, 12, 16)         448       \n",
            "_________________________________________________________________\n",
            "leaky_re_lu_6 (LeakyReLU)    (None, 6, 12, 16)         0         \n",
            "_________________________________________________________________\n",
            "dropout_1 (Dropout)          (None, 6, 12, 16)         0         \n",
            "_________________________________________________________________\n",
            "conv2d_2 (Conv2D)            (None, 3, 6, 32)          4640      \n",
            "_________________________________________________________________\n",
            "zero_padding2d_1 (ZeroPaddin (None, 4, 7, 32)          0         \n",
            "_________________________________________________________________\n",
            "batch_normalization_4 (Batch (None, 4, 7, 32)          128       \n",
            "_________________________________________________________________\n",
            "leaky_re_lu_7 (LeakyReLU)    (None, 4, 7, 32)          0         \n",
            "_________________________________________________________________\n",
            "dropout_2 (Dropout)          (None, 4, 7, 32)          0         \n",
            "_________________________________________________________________\n",
            "conv2d_3 (Conv2D)            (None, 2, 4, 64)          18496     \n",
            "_________________________________________________________________\n",
            "batch_normalization_5 (Batch (None, 2, 4, 64)          256       \n",
            "_________________________________________________________________\n",
            "leaky_re_lu_8 (LeakyReLU)    (None, 2, 4, 64)          0         \n",
            "_________________________________________________________________\n",
            "dropout_3 (Dropout)          (None, 2, 4, 64)          0         \n",
            "_________________________________________________________________\n",
            "conv2d_4 (Conv2D)            (None, 2, 4, 128)         73856     \n",
            "_________________________________________________________________\n",
            "batch_normalization_6 (Batch (None, 2, 4, 128)         512       \n",
            "_________________________________________________________________\n",
            "leaky_re_lu_9 (LeakyReLU)    (None, 2, 4, 128)         0         \n",
            "_________________________________________________________________\n",
            "dropout_4 (Dropout)          (None, 2, 4, 128)         0         \n",
            "_________________________________________________________________\n",
            "flatten_2 (Flatten)          (None, 1024)              0         \n",
            "_________________________________________________________________\n",
            "dense_8 (Dense)              (None, 1)                 1025      \n",
            "=================================================================\n",
            "Total params: 99,361\n",
            "Trainable params: 98,913\n",
            "Non-trainable params: 448\n",
            "_________________________________________________________________\n",
            "_________________________________________________________________\n",
            "Layer (type)                 Output Shape              Param #   \n",
            "=================================================================\n",
            "dense_9 (Dense)              (None, 6272)              633472    \n",
            "_________________________________________________________________\n",
            "reshape_2 (Reshape)          (None, 7, 7, 128)         0         \n",
            "_________________________________________________________________\n",
            "up_sampling2d_1 (UpSampling2 (None, 14, 14, 128)       0         \n",
            "_________________________________________________________________\n",
            "conv2d_5 (Conv2D)            (None, 14, 14, 128)       262272    \n",
            "_________________________________________________________________\n",
            "batch_normalization_7 (Batch (None, 14, 14, 128)       512       \n",
            "_________________________________________________________________\n",
            "activation_2 (Activation)    (None, 14, 14, 128)       0         \n",
            "_________________________________________________________________\n",
            "up_sampling2d_2 (UpSampling2 (None, 28, 28, 128)       0         \n",
            "_________________________________________________________________\n",
            "conv2d_6 (Conv2D)            (None, 28, 28, 64)        131136    \n",
            "_________________________________________________________________\n",
            "batch_normalization_8 (Batch (None, 28, 28, 64)        256       \n",
            "_________________________________________________________________\n",
            "activation_3 (Activation)    (None, 28, 28, 64)        0         \n",
            "_________________________________________________________________\n",
            "conv2d_7 (Conv2D)            (None, 28, 28, 3)         3075      \n",
            "_________________________________________________________________\n",
            "flatten_3 (Flatten)          (None, 2352)              0         \n",
            "_________________________________________________________________\n",
            "dense_10 (Dense)             (None, 759)               1785927   \n",
            "_________________________________________________________________\n",
            "activation_4 (Activation)    (None, 759)               0         \n",
            "_________________________________________________________________\n",
            "reshape_3 (Reshape)          (None, 11, 23, 3)         0         \n",
            "=================================================================\n",
            "Total params: 2,816,650\n",
            "Trainable params: 2,816,266\n",
            "Non-trainable params: 384\n",
            "_________________________________________________________________\n"
          ],
          "name": "stdout"
        },
        {
          "output_type": "stream",
          "text": [
            "/usr/local/lib/python3.6/dist-packages/keras/engine/training.py:490: UserWarning: Discrepancy between trainable weights and collected trainable weights, did you set `model.trainable` without calling `model.compile` after ?\n",
            "  'Discrepancy between trainable weights and collected trainable'\n"
          ],
          "name": "stderr"
        },
        {
          "output_type": "stream",
          "text": [
            "0 [D loss: 0.999931] [G loss: 1.000149]\n",
            "100 [D loss: 0.999986] [G loss: 1.000063]\n",
            "200 [D loss: 0.999966] [G loss: 1.000145]\n",
            "300 [D loss: 0.999971] [G loss: 1.000074]\n",
            "400 [D loss: 1.000018] [G loss: 1.000138]\n",
            "500 [D loss: 0.999963] [G loss: 1.001339]\n",
            "600 [D loss: 0.999962] [G loss: 1.000119]\n",
            "700 [D loss: 0.999974] [G loss: 1.000072]\n",
            "800 [D loss: 0.999982] [G loss: 1.000092]\n",
            "900 [D loss: 0.999976] [G loss: 1.000065]\n",
            "1000 [D loss: 0.999976] [G loss: 1.000070]\n",
            "1100 [D loss: 0.999973] [G loss: 1.000059]\n",
            "1200 [D loss: 0.999966] [G loss: 1.000065]\n",
            "1300 [D loss: 0.999968] [G loss: 1.000068]\n",
            "1400 [D loss: 0.999974] [G loss: 1.000077]\n",
            "1500 [D loss: 0.999964] [G loss: 1.000061]\n",
            "1600 [D loss: 0.999963] [G loss: 1.000073]\n",
            "1700 [D loss: 0.999963] [G loss: 1.000071]\n",
            "1800 [D loss: 0.999967] [G loss: 1.000059]\n",
            "1900 [D loss: 0.999966] [G loss: 1.000054]\n",
            "2000 [D loss: 0.999969] [G loss: 1.000050]\n",
            "2100 [D loss: 0.999975] [G loss: 1.000055]\n",
            "2200 [D loss: 0.999969] [G loss: 1.000064]\n",
            "2300 [D loss: 0.999972] [G loss: 1.000075]\n",
            "2400 [D loss: 0.999970] [G loss: 1.000052]\n",
            "2500 [D loss: 0.999988] [G loss: 1.000189]\n",
            "2600 [D loss: 1.000039] [G loss: 0.999953]\n",
            "2700 [D loss: 0.999971] [G loss: 1.000068]\n",
            "2800 [D loss: 0.999968] [G loss: 1.000078]\n",
            "2900 [D loss: 0.999973] [G loss: 1.000051]\n",
            "3000 [D loss: 0.999965] [G loss: 1.000059]\n",
            "3100 [D loss: 0.999969] [G loss: 1.000048]\n",
            "3200 [D loss: 0.999999] [G loss: 0.999985]\n",
            "3300 [D loss: 1.000040] [G loss: 0.999990]\n",
            "3400 [D loss: 0.999991] [G loss: 1.000048]\n",
            "3500 [D loss: 0.999981] [G loss: 1.000039]\n",
            "3600 [D loss: 0.999981] [G loss: 1.000049]\n",
            "3700 [D loss: 0.999957] [G loss: 1.000052]\n",
            "3800 [D loss: 0.999972] [G loss: 1.000066]\n",
            "3900 [D loss: 0.999976] [G loss: 1.000057]\n"
          ],
          "name": "stdout"
        }
      ]
    },
    {
      "metadata": {
        "id": "Qd61Bzh-AShp",
        "colab_type": "text"
      },
      "cell_type": "markdown",
      "source": [
        "Display sampled banners"
      ]
    },
    {
      "metadata": {
        "id": "PIYxY9P2Fks1",
        "colab_type": "code",
        "outputId": "6405b7b8-f811-4189-e8b2-e180187a6c32",
        "colab": {
          "base_uri": "https://localhost:8080/",
          "height": 369
        }
      },
      "cell_type": "code",
      "source": [
        "plt.imshow(plt.imread(wgan.image_folder + '3950.png'))\n",
        "plt.axis('off')"
      ],
      "execution_count": 36,
      "outputs": [
        {
          "output_type": "execute_result",
          "data": {
            "text/plain": [
              "(-0.5, 575.5, 395.5, -0.5)"
            ]
          },
          "metadata": {
            "tags": []
          },
          "execution_count": 36
        },
        {
          "output_type": "display_data",
          "data": {
            "image/png": "[encoded data removed]",
            "text/plain": [
              "<Figure size 576x396 with 1 Axes>"
            ]
          },
          "metadata": {
            "tags": []
          }
        }
      ]
    },
    {
      "metadata": {
        "id": "Dxq0QsEqAC-J",
        "colab_type": "text"
      },
      "cell_type": "markdown",
      "source": [
        "## Train DCGAN"
      ]
    },
    {
      "metadata": {
        "id": "6_0YhJVlHjhA",
        "colab_type": "text"
      },
      "cell_type": "markdown",
      "source": [
        "Reference: https://github.com/eriklindernoren/Keras-GAN/blob/master/dcgan/dcgan.py"
      ]
    },
    {
      "metadata": {
        "colab_type": "text",
        "id": "jbwtDxhDHna6"
      },
      "cell_type": "markdown",
      "source": [
        "Import Python modules"
      ]
    },
    {
      "metadata": {
        "colab_type": "code",
        "id": "EfqjEiNVHna_",
        "colab": {}
      },
      "cell_type": "code",
      "source": [
        "from keras.layers import Input, Dense, Reshape, Flatten, Dropout\n",
        "from keras.layers import BatchNormalization, Activation, ZeroPadding2D\n",
        "from keras.layers.advanced_activations import LeakyReLU\n",
        "from keras.layers.convolutional import UpSampling2D, Conv2D\n",
        "from keras.models import Sequential, Model\n",
        "from keras.optimizers import Adam\n",
        "\n",
        "import matplotlib.pyplot as plt\n",
        "\n",
        "import numpy as np"
      ],
      "execution_count": 0,
      "outputs": []
    },
    {
      "metadata": {
        "id": "lkmyQkyWtrJh",
        "colab_type": "code",
        "colab": {}
      },
      "cell_type": "code",
      "source": [
        "class DCGAN():\n",
        "    # CODE CHANGED BELOW  \n",
        "    def __init__(self, img_rows=11, img_cols=23, channels=3):\n",
        "        # Input shape      \n",
        "        self.img_rows = img_rows # 215\n",
        "        self.img_cols = img_cols # 460\n",
        "        self.channels = channels # 3\n",
        "        self.img_shape = (self.img_rows, self.img_cols, self.channels)\n",
        "        self.latent_dim = 100\n",
        "        \n",
        "        # CODE CHANGED BELOW  \n",
        "        self.image_folder = 'images_steam_dcgan/'\n",
        "        Path(self.image_folder).mkdir(exist_ok=True)                \n",
        "        \n",
        "        optimizer = Adam(0.0002, 0.5)\n",
        "\n",
        "        # Build and compile the discriminator\n",
        "        self.discriminator = self.build_discriminator()\n",
        "        self.discriminator.compile(loss='binary_crossentropy',\n",
        "            optimizer=optimizer,\n",
        "            metrics=['accuracy'])\n",
        "\n",
        "        # Build the generator\n",
        "        self.generator = self.build_generator()\n",
        "\n",
        "        # The generator takes noise as input and generates imgs\n",
        "        z = Input(shape=(self.latent_dim,))\n",
        "        img = self.generator(z)\n",
        "\n",
        "        # For the combined model we will only train the generator\n",
        "        self.discriminator.trainable = False\n",
        "\n",
        "        # The discriminator takes generated images as input and determines validity\n",
        "        valid = self.discriminator(img)\n",
        "\n",
        "        # The combined model  (stacked generator and discriminator)\n",
        "        # Trains the generator to fool the discriminator\n",
        "        self.combined = Model(z, valid)\n",
        "        self.combined.compile(loss='binary_crossentropy', optimizer=optimizer)\n",
        "\n",
        "    def build_generator(self):\n",
        "\n",
        "        model = Sequential()\n",
        "\n",
        "        model.add(Dense(128 * 7 * 7, activation=\"relu\", input_dim=self.latent_dim))\n",
        "        model.add(Reshape((7, 7, 128)))\n",
        "        model.add(UpSampling2D())\n",
        "        model.add(Conv2D(128, kernel_size=3, padding=\"same\"))\n",
        "        model.add(BatchNormalization(momentum=0.8))\n",
        "        model.add(Activation(\"relu\"))\n",
        "        model.add(UpSampling2D())\n",
        "        model.add(Conv2D(64, kernel_size=3, padding=\"same\"))\n",
        "        model.add(BatchNormalization(momentum=0.8))\n",
        "        model.add(Activation(\"relu\"))\n",
        "        model.add(Conv2D(self.channels, kernel_size=3, padding=\"same\"))\n",
        "        model.add(Flatten())\n",
        "        model.add(Dense(np.prod(self.img_shape)))\n",
        "        model.add(Activation('tanh'))\n",
        "        model.add(Reshape(self.img_shape))\n",
        "\n",
        "        model.summary()\n",
        "\n",
        "        noise = Input(shape=(self.latent_dim,))\n",
        "        img = model(noise)\n",
        "\n",
        "        return Model(noise, img)\n",
        "\n",
        "    def build_discriminator(self):\n",
        "\n",
        "        model = Sequential()\n",
        "\n",
        "        model.add(Conv2D(32, kernel_size=3, strides=2, input_shape=self.img_shape, padding=\"same\"))\n",
        "        model.add(LeakyReLU(alpha=0.2))\n",
        "        model.add(Dropout(0.25))\n",
        "        model.add(Conv2D(64, kernel_size=3, strides=2, padding=\"same\"))\n",
        "        model.add(ZeroPadding2D(padding=((0,1),(0,1))))\n",
        "        model.add(BatchNormalization(momentum=0.8))\n",
        "        model.add(LeakyReLU(alpha=0.2))\n",
        "        model.add(Dropout(0.25))\n",
        "        model.add(Conv2D(128, kernel_size=3, strides=2, padding=\"same\"))\n",
        "        model.add(BatchNormalization(momentum=0.8))\n",
        "        model.add(LeakyReLU(alpha=0.2))\n",
        "        model.add(Dropout(0.25))\n",
        "        model.add(Conv2D(256, kernel_size=3, strides=1, padding=\"same\"))\n",
        "        model.add(BatchNormalization(momentum=0.8))\n",
        "        model.add(LeakyReLU(alpha=0.2))\n",
        "        model.add(Dropout(0.25))\n",
        "        model.add(Flatten())\n",
        "        model.add(Dense(1, activation='sigmoid'))\n",
        "\n",
        "        model.summary()\n",
        "\n",
        "        img = Input(shape=self.img_shape)\n",
        "        validity = model(img)\n",
        "\n",
        "        return Model(img, validity)\n",
        "\n",
        "    def train(self, epochs, batch_size=128, save_interval=50):\n",
        "\n",
        "        # Load the dataset\n",
        "        # CODE CHANGED BELOW\n",
        "        X_train = np.load(get_matrix_file_name())\n",
        "        if self.channels == 1:\n",
        "          X_train = np.mean(X_train, axis=3)\n",
        "       \n",
        "        # Rescale -1 to 1\n",
        "        X_train = X_train / 127.5 - 1.\n",
        "        # CODE CHANGED BELOW\n",
        "        if self.channels == 1:                \n",
        "          X_train = np.expand_dims(X_train, axis=3)\n",
        "\n",
        "        # Adversarial ground truths\n",
        "        valid = np.ones((batch_size, 1))\n",
        "        fake = np.zeros((batch_size, 1))\n",
        "\n",
        "        for epoch in range(epochs):\n",
        "\n",
        "            # ---------------------\n",
        "            #  Train Discriminator\n",
        "            # ---------------------\n",
        "\n",
        "            # Select a random half of images\n",
        "            idx = np.random.randint(0, X_train.shape[0], batch_size)\n",
        "            imgs = X_train[idx]\n",
        "\n",
        "            # Sample noise and generate a batch of new images\n",
        "            noise = np.random.normal(0, 1, (batch_size, self.latent_dim))\n",
        "            gen_imgs = self.generator.predict(noise)\n",
        "\n",
        "            # Train the discriminator (real classified as ones and generated as zeros)\n",
        "            d_loss_real = self.discriminator.train_on_batch(imgs, valid)\n",
        "            d_loss_fake = self.discriminator.train_on_batch(gen_imgs, fake)\n",
        "            d_loss = 0.5 * np.add(d_loss_real, d_loss_fake)\n",
        "\n",
        "            # ---------------------\n",
        "            #  Train Generator\n",
        "            # ---------------------\n",
        "\n",
        "            # Train the generator (wants discriminator to mistake images as real)\n",
        "            g_loss = self.combined.train_on_batch(noise, valid)\n",
        "\n",
        "            # Plot the progress\n",
        "            if epoch % 100 == 0:\n",
        "              print (\"%d [D loss: %f, acc.: %.2f%%] [G loss: %f]\" % (epoch, d_loss[0], 100*d_loss[1], g_loss))\n",
        "\n",
        "            # If at save interval => save generated image samples\n",
        "            if epoch % save_interval == 0:\n",
        "                self.save_imgs(epoch)\n",
        "\n",
        "    def save_imgs(self, epoch):\n",
        "        r, c = 5, 5\n",
        "        noise = np.random.normal(0, 1, (r * c, self.latent_dim))\n",
        "        gen_imgs = self.generator.predict(noise)\n",
        "\n",
        "        # Rescale images 0 - 1\n",
        "        gen_imgs = 0.5 * gen_imgs + 0.5\n",
        "\n",
        "        fig, axs = plt.subplots(r, c)\n",
        "        cnt = 0\n",
        "        for i in range(r):\n",
        "            for j in range(c):\n",
        "                # CODE CHANGED BELOW\n",
        "                if gen_imgs.shape[-1]>1:\n",
        "                  axs[i,j].imshow(gen_imgs[cnt, :,:,:])\n",
        "                else:\n",
        "                  axs[i,j].imshow(gen_imgs[cnt, :,:,0]) \n",
        "                axs[i,j].axis('off')\n",
        "                cnt += 1\n",
        "        # CODE CHANGED BELOW                \n",
        "        fig.savefig(self.image_folder + \"%d.png\" % epoch)\n",
        "        plt.close()\n"
      ],
      "execution_count": 0,
      "outputs": []
    },
    {
      "metadata": {
        "id": "HKjVbRW3trOY",
        "colab_type": "code",
        "outputId": "763d483b-ddbd-4662-eb03-97df6d71f2a2",
        "colab": {
          "base_uri": "https://localhost:8080/",
          "height": 2278
        }
      },
      "cell_type": "code",
      "source": [
        "dcgan = DCGAN()\n",
        "dcgan.train(epochs=4000, batch_size=32, save_interval=50)"
      ],
      "execution_count": 39,
      "outputs": [
        {
          "output_type": "stream",
          "text": [
            "_________________________________________________________________\n",
            "Layer (type)                 Output Shape              Param #   \n",
            "=================================================================\n",
            "conv2d_8 (Conv2D)            (None, 6, 12, 32)         896       \n",
            "_________________________________________________________________\n",
            "leaky_re_lu_10 (LeakyReLU)   (None, 6, 12, 32)         0         \n",
            "_________________________________________________________________\n",
            "dropout_5 (Dropout)          (None, 6, 12, 32)         0         \n",
            "_________________________________________________________________\n",
            "conv2d_9 (Conv2D)            (None, 3, 6, 64)          18496     \n",
            "_________________________________________________________________\n",
            "zero_padding2d_2 (ZeroPaddin (None, 4, 7, 64)          0         \n",
            "_________________________________________________________________\n",
            "batch_normalization_9 (Batch (None, 4, 7, 64)          256       \n",
            "_________________________________________________________________\n",
            "leaky_re_lu_11 (LeakyReLU)   (None, 4, 7, 64)          0         \n",
            "_________________________________________________________________\n",
            "dropout_6 (Dropout)          (None, 4, 7, 64)          0         \n",
            "_________________________________________________________________\n",
            "conv2d_10 (Conv2D)           (None, 2, 4, 128)         73856     \n",
            "_________________________________________________________________\n",
            "batch_normalization_10 (Batc (None, 2, 4, 128)         512       \n",
            "_________________________________________________________________\n",
            "leaky_re_lu_12 (LeakyReLU)   (None, 2, 4, 128)         0         \n",
            "_________________________________________________________________\n",
            "dropout_7 (Dropout)          (None, 2, 4, 128)         0         \n",
            "_________________________________________________________________\n",
            "conv2d_11 (Conv2D)           (None, 2, 4, 256)         295168    \n",
            "_________________________________________________________________\n",
            "batch_normalization_11 (Batc (None, 2, 4, 256)         1024      \n",
            "_________________________________________________________________\n",
            "leaky_re_lu_13 (LeakyReLU)   (None, 2, 4, 256)         0         \n",
            "_________________________________________________________________\n",
            "dropout_8 (Dropout)          (None, 2, 4, 256)         0         \n",
            "_________________________________________________________________\n",
            "flatten_4 (Flatten)          (None, 2048)              0         \n",
            "_________________________________________________________________\n",
            "dense_11 (Dense)             (None, 1)                 2049      \n",
            "=================================================================\n",
            "Total params: 392,257\n",
            "Trainable params: 391,361\n",
            "Non-trainable params: 896\n",
            "_________________________________________________________________\n",
            "_________________________________________________________________\n",
            "Layer (type)                 Output Shape              Param #   \n",
            "=================================================================\n",
            "dense_12 (Dense)             (None, 6272)              633472    \n",
            "_________________________________________________________________\n",
            "reshape_4 (Reshape)          (None, 7, 7, 128)         0         \n",
            "_________________________________________________________________\n",
            "up_sampling2d_3 (UpSampling2 (None, 14, 14, 128)       0         \n",
            "_________________________________________________________________\n",
            "conv2d_12 (Conv2D)           (None, 14, 14, 128)       147584    \n",
            "_________________________________________________________________\n",
            "batch_normalization_12 (Batc (None, 14, 14, 128)       512       \n",
            "_________________________________________________________________\n",
            "activation_5 (Activation)    (None, 14, 14, 128)       0         \n",
            "_________________________________________________________________\n",
            "up_sampling2d_4 (UpSampling2 (None, 28, 28, 128)       0         \n",
            "_________________________________________________________________\n",
            "conv2d_13 (Conv2D)           (None, 28, 28, 64)        73792     \n",
            "_________________________________________________________________\n",
            "batch_normalization_13 (Batc (None, 28, 28, 64)        256       \n",
            "_________________________________________________________________\n",
            "activation_6 (Activation)    (None, 28, 28, 64)        0         \n",
            "_________________________________________________________________\n",
            "conv2d_14 (Conv2D)           (None, 28, 28, 3)         1731      \n",
            "_________________________________________________________________\n",
            "flatten_5 (Flatten)          (None, 2352)              0         \n",
            "_________________________________________________________________\n",
            "dense_13 (Dense)             (None, 759)               1785927   \n",
            "_________________________________________________________________\n",
            "activation_7 (Activation)    (None, 759)               0         \n",
            "_________________________________________________________________\n",
            "reshape_5 (Reshape)          (None, 11, 23, 3)         0         \n",
            "=================================================================\n",
            "Total params: 2,643,274\n",
            "Trainable params: 2,642,890\n",
            "Non-trainable params: 384\n",
            "_________________________________________________________________\n"
          ],
          "name": "stdout"
        },
        {
          "output_type": "stream",
          "text": [
            "/usr/local/lib/python3.6/dist-packages/keras/engine/training.py:490: UserWarning: Discrepancy between trainable weights and collected trainable weights, did you set `model.trainable` without calling `model.compile` after ?\n",
            "  'Discrepancy between trainable weights and collected trainable'\n"
          ],
          "name": "stderr"
        },
        {
          "output_type": "stream",
          "text": [
            "0 [D loss: 1.297222, acc.: 32.81%] [G loss: 0.815966]\n",
            "100 [D loss: 0.227601, acc.: 90.62%] [G loss: 3.086269]\n",
            "200 [D loss: 0.110698, acc.: 95.31%] [G loss: 2.335953]\n",
            "300 [D loss: 0.008484, acc.: 100.00%] [G loss: 6.310841]\n",
            "400 [D loss: 0.252691, acc.: 89.06%] [G loss: 2.771207]\n",
            "500 [D loss: 0.858335, acc.: 45.31%] [G loss: 0.951653]\n",
            "600 [D loss: 0.640533, acc.: 60.94%] [G loss: 2.268262]\n",
            "700 [D loss: 0.425997, acc.: 85.94%] [G loss: 1.250199]\n",
            "800 [D loss: 0.344778, acc.: 90.62%] [G loss: 0.570617]\n",
            "900 [D loss: 0.775873, acc.: 45.31%] [G loss: 0.839265]\n",
            "1000 [D loss: 0.683169, acc.: 57.81%] [G loss: 0.925503]\n",
            "1100 [D loss: 0.747019, acc.: 35.94%] [G loss: 0.884121]\n",
            "1200 [D loss: 0.697868, acc.: 57.81%] [G loss: 0.842877]\n",
            "1300 [D loss: 0.664224, acc.: 62.50%] [G loss: 0.907395]\n",
            "1400 [D loss: 0.640261, acc.: 67.19%] [G loss: 0.882366]\n",
            "1500 [D loss: 0.643633, acc.: 59.38%] [G loss: 0.785158]\n",
            "1600 [D loss: 0.780570, acc.: 46.88%] [G loss: 0.954526]\n",
            "1700 [D loss: 0.702066, acc.: 57.81%] [G loss: 0.973982]\n",
            "1800 [D loss: 0.839286, acc.: 34.38%] [G loss: 1.001523]\n",
            "1900 [D loss: 0.541102, acc.: 70.31%] [G loss: 0.959716]\n",
            "2000 [D loss: 0.539201, acc.: 79.69%] [G loss: 1.054019]\n",
            "2100 [D loss: 0.582318, acc.: 70.31%] [G loss: 1.255764]\n",
            "2200 [D loss: 0.726478, acc.: 60.94%] [G loss: 0.847300]\n",
            "2300 [D loss: 0.690864, acc.: 54.69%] [G loss: 0.985866]\n",
            "2400 [D loss: 0.642433, acc.: 68.75%] [G loss: 0.857727]\n",
            "2500 [D loss: 0.629698, acc.: 64.06%] [G loss: 0.992066]\n",
            "2600 [D loss: 0.638012, acc.: 67.19%] [G loss: 0.846850]\n",
            "2700 [D loss: 0.701775, acc.: 57.81%] [G loss: 1.022319]\n",
            "2800 [D loss: 0.619415, acc.: 64.06%] [G loss: 0.956664]\n",
            "2900 [D loss: 0.678520, acc.: 64.06%] [G loss: 0.924689]\n",
            "3000 [D loss: 0.698789, acc.: 56.25%] [G loss: 0.908233]\n",
            "3100 [D loss: 0.713509, acc.: 48.44%] [G loss: 0.933014]\n",
            "3200 [D loss: 0.707621, acc.: 51.56%] [G loss: 0.862621]\n",
            "3300 [D loss: 0.700773, acc.: 56.25%] [G loss: 0.888763]\n",
            "3400 [D loss: 0.693497, acc.: 56.25%] [G loss: 0.891021]\n",
            "3500 [D loss: 0.615813, acc.: 75.00%] [G loss: 0.984403]\n",
            "3600 [D loss: 0.837895, acc.: 40.62%] [G loss: 0.915321]\n",
            "3700 [D loss: 0.645216, acc.: 64.06%] [G loss: 1.000534]\n",
            "3800 [D loss: 0.539109, acc.: 79.69%] [G loss: 0.991850]\n",
            "3900 [D loss: 0.812954, acc.: 37.50%] [G loss: 0.944360]\n"
          ],
          "name": "stdout"
        }
      ]
    },
    {
      "metadata": {
        "id": "AShrVe4lAGTR",
        "colab_type": "text"
      },
      "cell_type": "markdown",
      "source": [
        "Display sampled banners"
      ]
    },
    {
      "metadata": {
        "id": "BIy8bzCxFmzK",
        "colab_type": "code",
        "outputId": "db65dbff-95e7-4a24-dda4-1b1871ac0f80",
        "colab": {
          "base_uri": "https://localhost:8080/",
          "height": 369
        }
      },
      "cell_type": "code",
      "source": [
        "plt.imshow(plt.imread(dcgan.image_folder + '3950.png'))\n",
        "plt.axis('off')"
      ],
      "execution_count": 40,
      "outputs": [
        {
          "output_type": "execute_result",
          "data": {
            "text/plain": [
              "(-0.5, 575.5, 395.5, -0.5)"
            ]
          },
          "metadata": {
            "tags": []
          },
          "execution_count": 40
        },
        {
          "output_type": "display_data",
          "data": {
            "image/png": "[encoded data removed]",
            "text/plain": [
              "<Figure size 576x396 with 1 Axes>"
            ]
          },
          "metadata": {
            "tags": []
          }
        }
      ]
    }
  ]
}