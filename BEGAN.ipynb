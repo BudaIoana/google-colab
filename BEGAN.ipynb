{
  "nbformat": 4,
  "nbformat_minor": 0,
  "metadata": {
    "colab": {
      "name": "BEGAN.ipynb",
      "version": "0.3.2",
      "provenance": [],
      "collapsed_sections": []
    },
    "kernelspec": {
      "name": "python3",
      "display_name": "Python 3"
    },
    "accelerator": "GPU"
  },
  "cells": [
    {
      "metadata": {
        "colab_type": "text",
        "id": "FJbionV6SNET"
      },
      "cell_type": "markdown",
      "source": [
        "# BEGAN\n",
        "\n",
        "Reference: https://github.com/carpedm20/BEGAN-tensorflow"
      ]
    },
    {
      "metadata": {
        "id": "6qgo2nAR_kQf",
        "colab_type": "text"
      },
      "cell_type": "markdown",
      "source": [
        "## Setting"
      ]
    },
    {
      "metadata": {
        "id": "Qa5fJ8mX_oDR",
        "colab_type": "text"
      },
      "cell_type": "markdown",
      "source": [
        "Mount Google Drive"
      ]
    },
    {
      "metadata": {
        "id": "sA88x9MVlkyT",
        "colab_type": "code",
        "outputId": "a15ade21-b79f-4fcc-f676-94b4ad6a3eaf",
        "colab": {
          "base_uri": "https://localhost:8080/",
          "height": 35
        }
      },
      "cell_type": "code",
      "source": [
        "from google.colab import drive\n",
        "\n",
        "mount_folder = '/content/gdrive'\n",
        "drive.mount(mount_folder)"
      ],
      "execution_count": 5,
      "outputs": [
        {
          "output_type": "stream",
          "text": [
            "Drive already mounted at /content/gdrive; to attempt to forcibly remount, call drive.mount(\"/content/gdrive\", force_remount=True).\n"
          ],
          "name": "stdout"
        }
      ]
    },
    {
      "metadata": {
        "id": "Kn57fZiuAs5i",
        "colab_type": "text"
      },
      "cell_type": "markdown",
      "source": [
        "Go into the working directory"
      ]
    },
    {
      "metadata": {
        "id": "DaLsJmzzlovR",
        "colab_type": "code",
        "colab": {}
      },
      "cell_type": "code",
      "source": [
        "import os\n",
        "\n",
        "app_folder = mount_folder + '/My Drive/'\n",
        "os.chdir(app_folder)"
      ],
      "execution_count": 0,
      "outputs": []
    },
    {
      "metadata": {
        "id": "raapTSTCRYLd",
        "colab_type": "text"
      },
      "cell_type": "markdown",
      "source": [
        "## Clone Github repository"
      ]
    },
    {
      "metadata": {
        "id": "1VKYR-8BRhLX",
        "colab_type": "code",
        "outputId": "31d50af8-db24-4159-da6e-6f9d541d6554",
        "colab": {
          "base_uri": "https://localhost:8080/",
          "height": 35
        }
      },
      "cell_type": "code",
      "source": [
        "!git clone https://github.com/carpedm20/BEGAN-tensorflow.git"
      ],
      "execution_count": 7,
      "outputs": [
        {
          "output_type": "stream",
          "text": [
            "fatal: destination path 'BEGAN-tensorflow' already exists and is not an empty directory.\n"
          ],
          "name": "stdout"
        }
      ]
    },
    {
      "metadata": {
        "id": "PrJSmFQNRcRJ",
        "colab_type": "text"
      },
      "cell_type": "markdown",
      "source": [
        "## Train"
      ]
    },
    {
      "metadata": {
        "id": "2WEiMQH3vhMt",
        "colab_type": "code",
        "colab": {}
      },
      "cell_type": "code",
      "source": [
        "!python BEGAN-tensorflow/main.py --dataset=resized_steam_banners --data_dir \"/content/gdrive/My Drive/data/\" --use_gpu=True"
      ],
      "execution_count": 0,
      "outputs": []
    },
    {
      "metadata": {
        "id": "jXRf62q7ReTZ",
        "colab_type": "text"
      },
      "cell_type": "markdown",
      "source": [
        "## Sample"
      ]
    },
    {
      "metadata": {
        "id": "cLC2g0PQsElh",
        "colab_type": "code",
        "colab": {}
      },
      "cell_type": "code",
      "source": [
        "!python BEGAN-tensorflow/main.py --dataset=resized_steam_banners --data_dir \"/content/gdrive/My Drive/data/\" --load_path=TODO --use_gpu=True --is_train=False --split valid"
      ],
      "execution_count": 0,
      "outputs": []
    }
  ]
}