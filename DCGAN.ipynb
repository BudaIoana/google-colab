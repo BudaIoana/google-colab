{
  "nbformat": 4,
  "nbformat_minor": 0,
  "metadata": {
    "colab": {
      "name": "DCGAN.ipynb",
      "version": "0.3.2",
      "provenance": [],
      "collapsed_sections": []
    },
    "kernelspec": {
      "name": "python3",
      "display_name": "Python 3"
    },
    "accelerator": "GPU"
  },
  "cells": [
    {
      "metadata": {
        "colab_type": "text",
        "id": "FJbionV6SNET"
      },
      "cell_type": "markdown",
      "source": [
        "# DCGAN\n",
        "\n",
        "Reference: https://github.com/carpedm20/DCGAN-tensorflow"
      ]
    },
    {
      "metadata": {
        "id": "6qgo2nAR_kQf",
        "colab_type": "text"
      },
      "cell_type": "markdown",
      "source": [
        "## Setting"
      ]
    },
    {
      "metadata": {
        "id": "Qa5fJ8mX_oDR",
        "colab_type": "text"
      },
      "cell_type": "markdown",
      "source": [
        "Mount Google Drive"
      ]
    },
    {
      "metadata": {
        "id": "sA88x9MVlkyT",
        "colab_type": "code",
        "outputId": "9d5cbd8a-8185-4431-b0b8-ef88b45370a8",
        "colab": {
          "base_uri": "https://localhost:8080/",
          "height": 35
        }
      },
      "cell_type": "code",
      "source": [
        "from google.colab import drive\n",
        "\n",
        "mount_folder = '/content/gdrive'\n",
        "drive.mount(mount_folder)"
      ],
      "execution_count": 8,
      "outputs": [
        {
          "output_type": "stream",
          "text": [
            "Drive already mounted at /content/gdrive; to attempt to forcibly remount, call drive.mount(\"/content/gdrive\", force_remount=True).\n"
          ],
          "name": "stdout"
        }
      ]
    },
    {
      "metadata": {
        "id": "Kn57fZiuAs5i",
        "colab_type": "text"
      },
      "cell_type": "markdown",
      "source": [
        "Go into the working directory"
      ]
    },
    {
      "metadata": {
        "id": "DaLsJmzzlovR",
        "colab_type": "code",
        "colab": {}
      },
      "cell_type": "code",
      "source": [
        "import os\n",
        "\n",
        "app_folder = mount_folder + '/My Drive/'\n",
        "os.chdir(app_folder)"
      ],
      "execution_count": 0,
      "outputs": []
    },
    {
      "metadata": {
        "id": "raapTSTCRYLd",
        "colab_type": "text"
      },
      "cell_type": "markdown",
      "source": [
        "## Clone Github repository"
      ]
    },
    {
      "metadata": {
        "id": "1VKYR-8BRhLX",
        "colab_type": "code",
        "outputId": "9b6c7a61-e591-4461-c157-bf4fe04f9c6b",
        "colab": {
          "base_uri": "https://localhost:8080/",
          "height": 35
        }
      },
      "cell_type": "code",
      "source": [
        "!git clone https://github.com/woctezuma/DCGAN-tensorflow.git"
      ],
      "execution_count": 10,
      "outputs": [
        {
          "output_type": "stream",
          "text": [
            "fatal: destination path 'DCGAN-tensorflow' already exists and is not an empty directory.\n"
          ],
          "name": "stdout"
        }
      ]
    },
    {
      "metadata": {
        "id": "PrJSmFQNRcRJ",
        "colab_type": "text"
      },
      "cell_type": "markdown",
      "source": [
        "## Train"
      ]
    },
    {
      "metadata": {
        "id": "2WEiMQH3vhMt",
        "colab_type": "code",
        "colab": {
          "base_uri": "https://localhost:8080/",
          "height": 1627
        },
        "outputId": "b3c0d9df-e8b3-4778-8f26-b71d7b69cf29"
      },
      "cell_type": "code",
      "source": [
        "!python DCGAN-tensorflow/main.py --dataset resized_steam_banners --data_dir \"/content/gdrive/My Drive/data/\" --input_height=215 --output_height=215 --train"
      ],
      "execution_count": 0,
      "outputs": [
        {
          "output_type": "stream",
          "text": [
            "{'batch_size': <absl.flags._flag.Flag object at 0x7f3a7aa94080>,\n",
            " 'beta1': <absl.flags._flag.Flag object at 0x7f3a7aa8b9b0>,\n",
            " 'checkpoint_dir': <absl.flags._flag.Flag object at 0x7f3a66882ac8>,\n",
            " 'crop': <absl.flags._flag.BooleanFlag object at 0x7f3a66882c88>,\n",
            " 'data_dir': <absl.flags._flag.Flag object at 0x7f3a66882b38>,\n",
            " 'dataset': <absl.flags._flag.Flag object at 0x7f3a668829b0>,\n",
            " 'epoch': <absl.flags._flag.Flag object at 0x7f3acfd95f98>,\n",
            " 'generate_test_images': <absl.flags._flag.Flag object at 0x7f3a66882da0>,\n",
            " 'h': <tensorflow.python.platform.app._HelpFlag object at 0x7f3a66882dd8>,\n",
            " 'help': <tensorflow.python.platform.app._HelpFlag object at 0x7f3a66882dd8>,\n",
            " 'helpfull': <tensorflow.python.platform.app._HelpfullFlag object at 0x7f3a66882e80>,\n",
            " 'helpshort': <tensorflow.python.platform.app._HelpshortFlag object at 0x7f3a66882ef0>,\n",
            " 'input_fname_pattern': <absl.flags._flag.Flag object at 0x7f3a66882a20>,\n",
            " 'input_height': <absl.flags._flag.Flag object at 0x7f3a72bbbfd0>,\n",
            " 'input_width': <absl.flags._flag.Flag object at 0x7f3a66882828>,\n",
            " 'learning_rate': <absl.flags._flag.Flag object at 0x7f3a7b365518>,\n",
            " 'output_height': <absl.flags._flag.Flag object at 0x7f3a66882898>,\n",
            " 'output_width': <absl.flags._flag.Flag object at 0x7f3a66882940>,\n",
            " 'sample_dir': <absl.flags._flag.Flag object at 0x7f3a66882ba8>,\n",
            " 'train': <absl.flags._flag.BooleanFlag object at 0x7f3a66882be0>,\n",
            " 'train_size': <absl.flags._flag.Flag object at 0x7f3a7aa94048>,\n",
            " 'visualize': <absl.flags._flag.BooleanFlag object at 0x7f3a66882cf8>}\n",
            "2019-02-16 17:21:11.715676: I tensorflow/core/platform/profile_utils/cpu_utils.cc:94] CPU Frequency: 2300000000 Hz\n",
            "2019-02-16 17:21:11.715943: I tensorflow/compiler/xla/service/service.cc:150] XLA service 0x2c64680 executing computations on platform Host. Devices:\n",
            "2019-02-16 17:21:11.715980: I tensorflow/compiler/xla/service/service.cc:158]   StreamExecutor device (0): <undefined>, <undefined>\n",
            "2019-02-16 17:21:11.780490: I tensorflow/stream_executor/cuda/cuda_gpu_executor.cc:998] successful NUMA node read from SysFS had negative value (-1), but there must be at least one NUMA node, so returning NUMA node zero\n",
            "2019-02-16 17:21:11.781054: I tensorflow/compiler/xla/service/service.cc:150] XLA service 0x2c63fa0 executing computations on platform CUDA. Devices:\n",
            "2019-02-16 17:21:11.781093: I tensorflow/compiler/xla/service/service.cc:158]   StreamExecutor device (0): Tesla K80, Compute Capability 3.7\n",
            "2019-02-16 17:21:11.781481: I tensorflow/core/common_runtime/gpu/gpu_device.cc:1433] Found device 0 with properties: \n",
            "name: Tesla K80 major: 3 minor: 7 memoryClockRate(GHz): 0.8235\n",
            "pciBusID: 0000:00:04.0\n",
            "totalMemory: 11.17GiB freeMemory: 10.53GiB\n",
            "2019-02-16 17:21:11.781514: I tensorflow/core/common_runtime/gpu/gpu_device.cc:1512] Adding visible gpu devices: 0\n",
            "2019-02-16 17:21:12.162106: I tensorflow/core/common_runtime/gpu/gpu_device.cc:984] Device interconnect StreamExecutor with strength 1 edge matrix:\n",
            "2019-02-16 17:21:12.162190: I tensorflow/core/common_runtime/gpu/gpu_device.cc:990]      0 \n",
            "2019-02-16 17:21:12.162209: I tensorflow/core/common_runtime/gpu/gpu_device.cc:1003] 0:   N \n",
            "2019-02-16 17:21:12.162526: I tensorflow/core/common_runtime/gpu/gpu_device.cc:1115] Created TensorFlow device (/job:localhost/replica:0/task:0/device:GPU:0 with 10200 MB memory) -> physical GPU (device: 0, name: Tesla K80, pci bus id: 0000:00:04.0, compute capability: 3.7)\n",
            "WARNING:tensorflow:From /usr/local/lib/python3.6/dist-packages/tensorflow/python/framework/op_def_library.py:263: colocate_with (from tensorflow.python.framework.ops) is deprecated and will be removed in a future version.\n",
            "Instructions for updating:\n",
            "Colocations handled automatically by placer.\n",
            "---------\n",
            "Variables: name (type shape) [size]\n",
            "---------\n",
            "generator/g_h0_lin/Matrix:0 (float32_ref 100x100352) [10035200, bytes: 40140800]\n",
            "generator/g_h0_lin/bias:0 (float32_ref 100352) [100352, bytes: 401408]\n",
            "generator/g_bn0/beta:0 (float32_ref 512) [512, bytes: 2048]\n",
            "generator/g_bn0/gamma:0 (float32_ref 512) [512, bytes: 2048]\n",
            "generator/g_h1/w:0 (float32_ref 5x5x256x512) [3276800, bytes: 13107200]\n",
            "generator/g_h1/biases:0 (float32_ref 256) [256, bytes: 1024]\n",
            "generator/g_bn1/beta:0 (float32_ref 256) [256, bytes: 1024]\n",
            "generator/g_bn1/gamma:0 (float32_ref 256) [256, bytes: 1024]\n",
            "generator/g_h2/w:0 (float32_ref 5x5x128x256) [819200, bytes: 3276800]\n",
            "generator/g_h2/biases:0 (float32_ref 128) [128, bytes: 512]\n",
            "generator/g_bn2/beta:0 (float32_ref 128) [128, bytes: 512]\n",
            "generator/g_bn2/gamma:0 (float32_ref 128) [128, bytes: 512]\n",
            "generator/g_h3/w:0 (float32_ref 5x5x64x128) [204800, bytes: 819200]\n",
            "generator/g_h3/biases:0 (float32_ref 64) [64, bytes: 256]\n",
            "generator/g_bn3/beta:0 (float32_ref 64) [64, bytes: 256]\n",
            "generator/g_bn3/gamma:0 (float32_ref 64) [64, bytes: 256]\n",
            "generator/g_h4/w:0 (float32_ref 5x5x3x64) [4800, bytes: 19200]\n",
            "generator/g_h4/biases:0 (float32_ref 3) [3, bytes: 12]\n",
            "discriminator/d_h0_conv/w:0 (float32_ref 5x5x3x64) [4800, bytes: 19200]\n",
            "discriminator/d_h0_conv/biases:0 (float32_ref 64) [64, bytes: 256]\n",
            "discriminator/d_h1_conv/w:0 (float32_ref 5x5x64x128) [204800, bytes: 819200]\n",
            "discriminator/d_h1_conv/biases:0 (float32_ref 128) [128, bytes: 512]\n",
            "discriminator/d_bn1/beta:0 (float32_ref 128) [128, bytes: 512]\n",
            "discriminator/d_bn1/gamma:0 (float32_ref 128) [128, bytes: 512]\n",
            "discriminator/d_h2_conv/w:0 (float32_ref 5x5x128x256) [819200, bytes: 3276800]\n",
            "discriminator/d_h2_conv/biases:0 (float32_ref 256) [256, bytes: 1024]\n",
            "discriminator/d_bn2/beta:0 (float32_ref 256) [256, bytes: 1024]\n",
            "discriminator/d_bn2/gamma:0 (float32_ref 256) [256, bytes: 1024]\n",
            "discriminator/d_h3_conv/w:0 (float32_ref 5x5x256x512) [3276800, bytes: 13107200]\n",
            "discriminator/d_h3_conv/biases:0 (float32_ref 512) [512, bytes: 2048]\n",
            "discriminator/d_bn3/beta:0 (float32_ref 512) [512, bytes: 2048]\n",
            "discriminator/d_bn3/gamma:0 (float32_ref 512) [512, bytes: 2048]\n",
            "discriminator/d_h4_lin/Matrix:0 (float32_ref 100352x1) [100352, bytes: 401408]\n",
            "discriminator/d_h4_lin/bias:0 (float32_ref 1) [1, bytes: 4]\n",
            "Total size of variables: 18852228\n",
            "Total bytes of variables: 75408912\n",
            " [*] Reading checkpoints...\n",
            " [*] Failed to find a checkpoint\n",
            " [!] Load failed...\n",
            "2019-02-16 17:22:22.729946: I tensorflow/stream_executor/dso_loader.cc:152] successfully opened CUDA library libcublas.so.10.0 locally\n",
            "Epoch: [ 0/25] [   0/ 437] time: 47.5576, d_loss: 38.11334991, g_loss: 0.00000000\n",
            "Epoch: [ 0/25] [   1/ 437] time: 81.6904, d_loss: 27.09033012, g_loss: 0.00000001\n"
          ],
          "name": "stdout"
        }
      ]
    },
    {
      "metadata": {
        "id": "jXRf62q7ReTZ",
        "colab_type": "text"
      },
      "cell_type": "markdown",
      "source": [
        "## Sample"
      ]
    },
    {
      "metadata": {
        "id": "cLC2g0PQsElh",
        "colab_type": "code",
        "colab": {}
      },
      "cell_type": "code",
      "source": [
        "!python DCGAN-tensorflow/main.py --dataset resized_steam_banners --data_dir \"/content/gdrive/My Drive/data/\" --input_height=215 --output_height=215"
      ],
      "execution_count": 0,
      "outputs": []
    }
  ]
}